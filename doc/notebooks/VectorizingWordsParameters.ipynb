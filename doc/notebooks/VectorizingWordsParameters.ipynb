{
 "cells": [
  {
   "cell_type": "markdown",
   "metadata": {},
   "source": [
    "# Vectorizing Words and Tokens"
   ]
  },
  {
   "cell_type": "markdown",
   "metadata": {},
   "source": [
    "The vectorization of words and tokens stems from the distributional hypothesis from linguistics due to Firth - 'a word is known by the company it keeps'.  Rephrased mathematically, this can be thougth of as a version of the Yondea Lemma from category theory.  This notion is also common when defining words even in the dictionary - the examples of using a word in a sentence help to define a word.  Take to the extreme, one can say that the definition of a word *is* the document of sentences containing it.  The vectorization of documents is covered in the VectorizingDocumentParameters notenook and very similar notions will be applied here. \n",
    "\n",
    "Computationally, and practically, a word is often veiwed as a collection of windows instead of full sentences (to avoid long run-on sentences), i.e. the collection of words nearby that are before and after it.  From here, one can simply one hot encode the these windows for each word, creating a word-word cooccurrence matrix, where column j counts how often it occurred near in the windows around the word in row i.  More generally, one may wish to weight the words based on how far apart they are (generally assuming nearer words in the window are more informative), vary the sizes of windows based on their content, and, just as in the case of documents, filter the words under consiteration.   \n",
    "\n",
    "These options are generally all captured in the TokenCooccurrenceVectorizer, which produces the sparse word-word cooccurrence matrix. Notice that counting pairs of words in a window is also precisely what the SkipgramVectorizer is doing at it's heart.  Consequently, these two classes have many of the same options. "
   ]
  },
  {
   "cell_type": "markdown",
   "metadata": {},
   "source": [
    "#### First let's get some data! We'll use 20newgroups and remove documents less than 100 characters long. "
   ]
  },
  {
   "cell_type": "code",
   "execution_count": 1,
   "metadata": {},
   "outputs": [
    {
     "name": "stderr",
     "output_type": "stream",
     "text": [
      "[nltk_data] Downloading package stopwords to /Users/colin/nltk_data...\n",
      "[nltk_data]   Package stopwords is already up-to-date!\n"
     ]
    }
   ],
   "source": [
    "import sklearn.datasets\n",
    "import numpy as np\n",
    "import vectorizers\n",
    "import textmap\n",
    "import textmap.tokenizers \n",
    "import textmap.transformers\n",
    "import nltk\n",
    "nltk.download('stopwords')\n",
    "from nltk.corpus import stopwords"
   ]
  },
  {
   "cell_type": "code",
   "execution_count": 2,
   "metadata": {},
   "outputs": [],
   "source": [
    "news = sklearn.datasets.fetch_20newsgroups(remove=('headers', 'footers', 'quotes'))"
   ]
  },
  {
   "cell_type": "code",
   "execution_count": 3,
   "metadata": {},
   "outputs": [],
   "source": [
    "long_enough = [len(t) > 100 for t in news['data']]\n",
    "data = np.array(news['data'])\n",
    "data = data[long_enough]\n",
    "targets = np.array(news.target)\n",
    "targets = targets[long_enough]\n",
    "target_names = np.array(news.target_names)"
   ]
  },
  {
   "cell_type": "markdown",
   "metadata": {},
   "source": [
    "#### Next we need to tokenize the data"
   ]
  },
  {
   "cell_type": "code",
   "execution_count": 4,
   "metadata": {},
   "outputs": [
    {
     "name": "stdout",
     "output_type": "stream",
     "text": [
      "CPU times: user 10.3 s, sys: 203 ms, total: 10.5 s\n",
      "Wall time: 10.6 s\n"
     ]
    }
   ],
   "source": [
    "%%time\n",
    "tokens = textmap.tokenizers.NLTKTweetTokenizer().fit_transform(data)"
   ]
  },
  {
   "cell_type": "code",
   "execution_count": 5,
   "metadata": {},
   "outputs": [
    {
     "name": "stderr",
     "output_type": "stream",
     "text": [
      "/opt/anaconda3/lib/python3.7/site-packages/numba/compiler.py:602: NumbaPerformanceWarning: \u001b[1m\n",
      "The keyword argument 'parallel=True' was specified but no transformation for parallel execution was possible.\n",
      "\n",
      "To find out why, try turning on parallel diagnostics, see http://numba.pydata.org/numba-doc/latest/user/parallel.html#diagnostics for help.\n",
      "\u001b[1m\n",
      "File \"../../../PycharmProjects/vectorizers/vectorizers/_vectorizers.py\", line 422:\u001b[0m\n",
      "\u001b[1m@numba.njit(nogil=True, parallel=True)\n",
      "\u001b[1mdef sequence_skip_grams(\n",
      "\u001b[0m\u001b[1m^\u001b[0m\u001b[0m\n",
      "\u001b[0m\n",
      "  self.func_ir.loc))\n"
     ]
    },
    {
     "name": "stdout",
     "output_type": "stream",
     "text": [
      "CPU times: user 8.81 s, sys: 536 ms, total: 9.34 s\n",
      "Wall time: 8.34 s\n"
     ]
    },
    {
     "data": {
      "text/plain": [
       "<120664x120664 sparse matrix of type '<class 'numpy.float32'>'\n",
       "\twith 6709483 stored elements in Compressed Sparse Row format>"
      ]
     },
     "execution_count": 5,
     "metadata": {},
     "output_type": "execute_result"
    }
   ],
   "source": [
    "%%time\n",
    "vectorizer = vectorizers.TokenCooccurrenceVectorizer()\n",
    "count_matrix = vectorizer.fit_transform(tokens)\n",
    "count_matrix"
   ]
  },
  {
   "cell_type": "markdown",
   "metadata": {},
   "source": [
    "The default settings have produced a count matrix whereby the i,j entry is the number of times word_j appears within a window radius (default window_radius = 5) of word_i, either before or after (default window_orientation = 'symmetric')"
   ]
  },
  {
   "cell_type": "markdown",
   "metadata": {},
   "source": [
    "#### Without filtering the tokens to count, we have ended up with a massive extremely sparse matrix. \n",
    "By Zipf's law, the vast majority of these tokens only occur a small number of times.  We can filter the feature space in several ways based on their numerics: \n",
    "* min_frequency\n",
    "* max_frequency\n",
    "* min_occurrences\n",
    "* max_occurrences\n",
    "\n",
    "or based on their content via\n",
    "\n",
    "* ignored_tokens (a list of tokens to ignore)\n",
    "* excluded_regex (ignore all tokens that fullmatch the regular rexpression)"
   ]
  },
  {
   "cell_type": "code",
   "execution_count": 6,
   "metadata": {},
   "outputs": [
    {
     "name": "stdout",
     "output_type": "stream",
     "text": [
      "CPU times: user 2.57 s, sys: 102 ms, total: 2.68 s\n",
      "Wall time: 2.64 s\n"
     ]
    },
    {
     "data": {
      "text/plain": [
       "<3304x3304 sparse matrix of type '<class 'numpy.float32'>'\n",
       "\twith 1846381 stored elements in Compressed Sparse Row format>"
      ]
     },
     "execution_count": 6,
     "metadata": {},
     "output_type": "execute_result"
    }
   ],
   "source": [
    "%%time \n",
    "vectorizer = vectorizers.TokenCooccurrenceVectorizer(\n",
    "                                            max_frequency = 1e-4, \n",
    "                                            min_occurrences = 50, \n",
    "                                            ignored_tokens=stopwords.words('English'),\n",
    "                                            excluded_token_regex=\"\\W+\")\n",
    "count_matrix = vectorizer.fit_transform(tokens)\n",
    "count_matrix"
   ]
  },
  {
   "cell_type": "markdown",
   "metadata": {},
   "source": [
    "#### The vectorizer transform returns a document by token sparse matrix.  The fit has also produced two dictionaries, the column_label_dictionary_ and the column_index_dictionary_ to access the feature space.  These two dicts relate the tokens to column numbers (which are sorted)"
   ]
  },
  {
   "cell_type": "code",
   "execution_count": 7,
   "metadata": {},
   "outputs": [
    {
     "data": {
      "text/plain": [
       "342"
      ]
     },
     "execution_count": 7,
     "metadata": {},
     "output_type": "execute_result"
    }
   ],
   "source": [
    "vectorizer.column_label_dictionary_['apple']"
   ]
  },
  {
   "cell_type": "code",
   "execution_count": 8,
   "metadata": {},
   "outputs": [
    {
     "data": {
      "text/plain": [
       "['apple',\n",
       " 'applications',\n",
       " 'applied',\n",
       " 'applies',\n",
       " 'apply',\n",
       " 'appreciate',\n",
       " 'appreciated',\n",
       " 'approach']"
      ]
     },
     "execution_count": 8,
     "metadata": {},
     "output_type": "execute_result"
    }
   ],
   "source": [
    "[vectorizer.column_index_dictionary_[i] for i in range(342, 350)]"
   ]
  },
  {
   "cell_type": "markdown",
   "metadata": {},
   "source": [
    "Just as with documents, we can consider a word (token) as a distribution over words around it and embed with UMAP and hellinger distance. "
   ]
  },
  {
   "cell_type": "code",
   "execution_count": 9,
   "metadata": {},
   "outputs": [
    {
     "data": {
      "text/html": [
       "\n",
       "    <div class=\"bk-root\">\n",
       "        <a href=\"https://bokeh.pydata.org\" target=\"_blank\" class=\"bk-logo bk-logo-small bk-logo-notebook\"></a>\n",
       "        <span id=\"1001\">Loading BokehJS ...</span>\n",
       "    </div>"
      ]
     },
     "metadata": {},
     "output_type": "display_data"
    },
    {
     "data": {
      "application/javascript": [
       "\n",
       "(function(root) {\n",
       "  function now() {\n",
       "    return new Date();\n",
       "  }\n",
       "\n",
       "  var force = true;\n",
       "\n",
       "  if (typeof root._bokeh_onload_callbacks === \"undefined\" || force === true) {\n",
       "    root._bokeh_onload_callbacks = [];\n",
       "    root._bokeh_is_loading = undefined;\n",
       "  }\n",
       "\n",
       "  var JS_MIME_TYPE = 'application/javascript';\n",
       "  var HTML_MIME_TYPE = 'text/html';\n",
       "  var EXEC_MIME_TYPE = 'application/vnd.bokehjs_exec.v0+json';\n",
       "  var CLASS_NAME = 'output_bokeh rendered_html';\n",
       "\n",
       "  /**\n",
       "   * Render data to the DOM node\n",
       "   */\n",
       "  function render(props, node) {\n",
       "    var script = document.createElement(\"script\");\n",
       "    node.appendChild(script);\n",
       "  }\n",
       "\n",
       "  /**\n",
       "   * Handle when an output is cleared or removed\n",
       "   */\n",
       "  function handleClearOutput(event, handle) {\n",
       "    var cell = handle.cell;\n",
       "\n",
       "    var id = cell.output_area._bokeh_element_id;\n",
       "    var server_id = cell.output_area._bokeh_server_id;\n",
       "    // Clean up Bokeh references\n",
       "    if (id != null && id in Bokeh.index) {\n",
       "      Bokeh.index[id].model.document.clear();\n",
       "      delete Bokeh.index[id];\n",
       "    }\n",
       "\n",
       "    if (server_id !== undefined) {\n",
       "      // Clean up Bokeh references\n",
       "      var cmd = \"from bokeh.io.state import curstate; print(curstate().uuid_to_server['\" + server_id + \"'].get_sessions()[0].document.roots[0]._id)\";\n",
       "      cell.notebook.kernel.execute(cmd, {\n",
       "        iopub: {\n",
       "          output: function(msg) {\n",
       "            var id = msg.content.text.trim();\n",
       "            if (id in Bokeh.index) {\n",
       "              Bokeh.index[id].model.document.clear();\n",
       "              delete Bokeh.index[id];\n",
       "            }\n",
       "          }\n",
       "        }\n",
       "      });\n",
       "      // Destroy server and session\n",
       "      var cmd = \"import bokeh.io.notebook as ion; ion.destroy_server('\" + server_id + \"')\";\n",
       "      cell.notebook.kernel.execute(cmd);\n",
       "    }\n",
       "  }\n",
       "\n",
       "  /**\n",
       "   * Handle when a new output is added\n",
       "   */\n",
       "  function handleAddOutput(event, handle) {\n",
       "    var output_area = handle.output_area;\n",
       "    var output = handle.output;\n",
       "\n",
       "    // limit handleAddOutput to display_data with EXEC_MIME_TYPE content only\n",
       "    if ((output.output_type != \"display_data\") || (!output.data.hasOwnProperty(EXEC_MIME_TYPE))) {\n",
       "      return\n",
       "    }\n",
       "\n",
       "    var toinsert = output_area.element.find(\".\" + CLASS_NAME.split(' ')[0]);\n",
       "\n",
       "    if (output.metadata[EXEC_MIME_TYPE][\"id\"] !== undefined) {\n",
       "      toinsert[toinsert.length - 1].firstChild.textContent = output.data[JS_MIME_TYPE];\n",
       "      // store reference to embed id on output_area\n",
       "      output_area._bokeh_element_id = output.metadata[EXEC_MIME_TYPE][\"id\"];\n",
       "    }\n",
       "    if (output.metadata[EXEC_MIME_TYPE][\"server_id\"] !== undefined) {\n",
       "      var bk_div = document.createElement(\"div\");\n",
       "      bk_div.innerHTML = output.data[HTML_MIME_TYPE];\n",
       "      var script_attrs = bk_div.children[0].attributes;\n",
       "      for (var i = 0; i < script_attrs.length; i++) {\n",
       "        toinsert[toinsert.length - 1].firstChild.setAttribute(script_attrs[i].name, script_attrs[i].value);\n",
       "      }\n",
       "      // store reference to server id on output_area\n",
       "      output_area._bokeh_server_id = output.metadata[EXEC_MIME_TYPE][\"server_id\"];\n",
       "    }\n",
       "  }\n",
       "\n",
       "  function register_renderer(events, OutputArea) {\n",
       "\n",
       "    function append_mime(data, metadata, element) {\n",
       "      // create a DOM node to render to\n",
       "      var toinsert = this.create_output_subarea(\n",
       "        metadata,\n",
       "        CLASS_NAME,\n",
       "        EXEC_MIME_TYPE\n",
       "      );\n",
       "      this.keyboard_manager.register_events(toinsert);\n",
       "      // Render to node\n",
       "      var props = {data: data, metadata: metadata[EXEC_MIME_TYPE]};\n",
       "      render(props, toinsert[toinsert.length - 1]);\n",
       "      element.append(toinsert);\n",
       "      return toinsert\n",
       "    }\n",
       "\n",
       "    /* Handle when an output is cleared or removed */\n",
       "    events.on('clear_output.CodeCell', handleClearOutput);\n",
       "    events.on('delete.Cell', handleClearOutput);\n",
       "\n",
       "    /* Handle when a new output is added */\n",
       "    events.on('output_added.OutputArea', handleAddOutput);\n",
       "\n",
       "    /**\n",
       "     * Register the mime type and append_mime function with output_area\n",
       "     */\n",
       "    OutputArea.prototype.register_mime_type(EXEC_MIME_TYPE, append_mime, {\n",
       "      /* Is output safe? */\n",
       "      safe: true,\n",
       "      /* Index of renderer in `output_area.display_order` */\n",
       "      index: 0\n",
       "    });\n",
       "  }\n",
       "\n",
       "  // register the mime type if in Jupyter Notebook environment and previously unregistered\n",
       "  if (root.Jupyter !== undefined) {\n",
       "    var events = require('base/js/events');\n",
       "    var OutputArea = require('notebook/js/outputarea').OutputArea;\n",
       "\n",
       "    if (OutputArea.prototype.mime_types().indexOf(EXEC_MIME_TYPE) == -1) {\n",
       "      register_renderer(events, OutputArea);\n",
       "    }\n",
       "  }\n",
       "\n",
       "  \n",
       "  if (typeof (root._bokeh_timeout) === \"undefined\" || force === true) {\n",
       "    root._bokeh_timeout = Date.now() + 5000;\n",
       "    root._bokeh_failed_load = false;\n",
       "  }\n",
       "\n",
       "  var NB_LOAD_WARNING = {'data': {'text/html':\n",
       "     \"<div style='background-color: #fdd'>\\n\"+\n",
       "     \"<p>\\n\"+\n",
       "     \"BokehJS does not appear to have successfully loaded. If loading BokehJS from CDN, this \\n\"+\n",
       "     \"may be due to a slow or bad network connection. Possible fixes:\\n\"+\n",
       "     \"</p>\\n\"+\n",
       "     \"<ul>\\n\"+\n",
       "     \"<li>re-rerun `output_notebook()` to attempt to load from CDN again, or</li>\\n\"+\n",
       "     \"<li>use INLINE resources instead, as so:</li>\\n\"+\n",
       "     \"</ul>\\n\"+\n",
       "     \"<code>\\n\"+\n",
       "     \"from bokeh.resources import INLINE\\n\"+\n",
       "     \"output_notebook(resources=INLINE)\\n\"+\n",
       "     \"</code>\\n\"+\n",
       "     \"</div>\"}};\n",
       "\n",
       "  function display_loaded() {\n",
       "    var el = document.getElementById(\"1001\");\n",
       "    if (el != null) {\n",
       "      el.textContent = \"BokehJS is loading...\";\n",
       "    }\n",
       "    if (root.Bokeh !== undefined) {\n",
       "      if (el != null) {\n",
       "        el.textContent = \"BokehJS \" + root.Bokeh.version + \" successfully loaded.\";\n",
       "      }\n",
       "    } else if (Date.now() < root._bokeh_timeout) {\n",
       "      setTimeout(display_loaded, 100)\n",
       "    }\n",
       "  }\n",
       "\n",
       "\n",
       "  function run_callbacks() {\n",
       "    try {\n",
       "      root._bokeh_onload_callbacks.forEach(function(callback) {\n",
       "        if (callback != null)\n",
       "          callback();\n",
       "      });\n",
       "    } finally {\n",
       "      delete root._bokeh_onload_callbacks\n",
       "    }\n",
       "    console.debug(\"Bokeh: all callbacks have finished\");\n",
       "  }\n",
       "\n",
       "  function load_libs(css_urls, js_urls, callback) {\n",
       "    if (css_urls == null) css_urls = [];\n",
       "    if (js_urls == null) js_urls = [];\n",
       "\n",
       "    root._bokeh_onload_callbacks.push(callback);\n",
       "    if (root._bokeh_is_loading > 0) {\n",
       "      console.debug(\"Bokeh: BokehJS is being loaded, scheduling callback at\", now());\n",
       "      return null;\n",
       "    }\n",
       "    if (js_urls == null || js_urls.length === 0) {\n",
       "      run_callbacks();\n",
       "      return null;\n",
       "    }\n",
       "    console.debug(\"Bokeh: BokehJS not loaded, scheduling load and callback at\", now());\n",
       "    root._bokeh_is_loading = css_urls.length + js_urls.length;\n",
       "\n",
       "    function on_load() {\n",
       "      root._bokeh_is_loading--;\n",
       "      if (root._bokeh_is_loading === 0) {\n",
       "        console.debug(\"Bokeh: all BokehJS libraries/stylesheets loaded\");\n",
       "        run_callbacks()\n",
       "      }\n",
       "    }\n",
       "\n",
       "    function on_error() {\n",
       "      console.error(\"failed to load \" + url);\n",
       "    }\n",
       "\n",
       "    for (var i = 0; i < css_urls.length; i++) {\n",
       "      var url = css_urls[i];\n",
       "      const element = document.createElement(\"link\");\n",
       "      element.onload = on_load;\n",
       "      element.onerror = on_error;\n",
       "      element.rel = \"stylesheet\";\n",
       "      element.type = \"text/css\";\n",
       "      element.href = url;\n",
       "      console.debug(\"Bokeh: injecting link tag for BokehJS stylesheet: \", url);\n",
       "      document.body.appendChild(element);\n",
       "    }\n",
       "\n",
       "    for (var i = 0; i < js_urls.length; i++) {\n",
       "      var url = js_urls[i];\n",
       "      var element = document.createElement('script');\n",
       "      element.onload = on_load;\n",
       "      element.onerror = on_error;\n",
       "      element.async = false;\n",
       "      element.src = url;\n",
       "      console.debug(\"Bokeh: injecting script tag for BokehJS library: \", url);\n",
       "      document.head.appendChild(element);\n",
       "    }\n",
       "  };var element = document.getElementById(\"1001\");\n",
       "  if (element == null) {\n",
       "    console.error(\"Bokeh: ERROR: autoload.js configured with elementid '1001' but no matching script tag was found. \")\n",
       "    return false;\n",
       "  }\n",
       "\n",
       "  function inject_raw_css(css) {\n",
       "    const element = document.createElement(\"style\");\n",
       "    element.appendChild(document.createTextNode(css));\n",
       "    document.body.appendChild(element);\n",
       "  }\n",
       "\n",
       "  var js_urls = [\"https://cdn.pydata.org/bokeh/release/bokeh-1.3.4.min.js\", \"https://cdn.pydata.org/bokeh/release/bokeh-widgets-1.3.4.min.js\", \"https://cdn.pydata.org/bokeh/release/bokeh-tables-1.3.4.min.js\", \"https://cdn.pydata.org/bokeh/release/bokeh-gl-1.3.4.min.js\"];\n",
       "  var css_urls = [];\n",
       "\n",
       "  var inline_js = [\n",
       "    function(Bokeh) {\n",
       "      Bokeh.set_log_level(\"info\");\n",
       "    },\n",
       "    \n",
       "    function(Bokeh) {\n",
       "      \n",
       "    },\n",
       "    function(Bokeh) {} // ensure no trailing comma for IE\n",
       "  ];\n",
       "\n",
       "  function run_inline_js() {\n",
       "    \n",
       "    if ((root.Bokeh !== undefined) || (force === true)) {\n",
       "      for (var i = 0; i < inline_js.length; i++) {\n",
       "        inline_js[i].call(root, root.Bokeh);\n",
       "      }if (force === true) {\n",
       "        display_loaded();\n",
       "      }} else if (Date.now() < root._bokeh_timeout) {\n",
       "      setTimeout(run_inline_js, 100);\n",
       "    } else if (!root._bokeh_failed_load) {\n",
       "      console.log(\"Bokeh: BokehJS failed to load within specified timeout.\");\n",
       "      root._bokeh_failed_load = true;\n",
       "    } else if (force !== true) {\n",
       "      var cell = $(document.getElementById(\"1001\")).parents('.cell').data().cell;\n",
       "      cell.output_area.append_execute_result(NB_LOAD_WARNING)\n",
       "    }\n",
       "\n",
       "  }\n",
       "\n",
       "  if (root._bokeh_is_loading === 0) {\n",
       "    console.debug(\"Bokeh: BokehJS loaded, going straight to plotting\");\n",
       "    run_inline_js();\n",
       "  } else {\n",
       "    load_libs(css_urls, js_urls, function() {\n",
       "      console.debug(\"Bokeh: BokehJS plotting callback run at\", now());\n",
       "      run_inline_js();\n",
       "    });\n",
       "  }\n",
       "}(window));"
      ],
      "application/vnd.bokehjs_load.v0+json": "\n(function(root) {\n  function now() {\n    return new Date();\n  }\n\n  var force = true;\n\n  if (typeof root._bokeh_onload_callbacks === \"undefined\" || force === true) {\n    root._bokeh_onload_callbacks = [];\n    root._bokeh_is_loading = undefined;\n  }\n\n  \n\n  \n  if (typeof (root._bokeh_timeout) === \"undefined\" || force === true) {\n    root._bokeh_timeout = Date.now() + 5000;\n    root._bokeh_failed_load = false;\n  }\n\n  var NB_LOAD_WARNING = {'data': {'text/html':\n     \"<div style='background-color: #fdd'>\\n\"+\n     \"<p>\\n\"+\n     \"BokehJS does not appear to have successfully loaded. If loading BokehJS from CDN, this \\n\"+\n     \"may be due to a slow or bad network connection. Possible fixes:\\n\"+\n     \"</p>\\n\"+\n     \"<ul>\\n\"+\n     \"<li>re-rerun `output_notebook()` to attempt to load from CDN again, or</li>\\n\"+\n     \"<li>use INLINE resources instead, as so:</li>\\n\"+\n     \"</ul>\\n\"+\n     \"<code>\\n\"+\n     \"from bokeh.resources import INLINE\\n\"+\n     \"output_notebook(resources=INLINE)\\n\"+\n     \"</code>\\n\"+\n     \"</div>\"}};\n\n  function display_loaded() {\n    var el = document.getElementById(\"1001\");\n    if (el != null) {\n      el.textContent = \"BokehJS is loading...\";\n    }\n    if (root.Bokeh !== undefined) {\n      if (el != null) {\n        el.textContent = \"BokehJS \" + root.Bokeh.version + \" successfully loaded.\";\n      }\n    } else if (Date.now() < root._bokeh_timeout) {\n      setTimeout(display_loaded, 100)\n    }\n  }\n\n\n  function run_callbacks() {\n    try {\n      root._bokeh_onload_callbacks.forEach(function(callback) {\n        if (callback != null)\n          callback();\n      });\n    } finally {\n      delete root._bokeh_onload_callbacks\n    }\n    console.debug(\"Bokeh: all callbacks have finished\");\n  }\n\n  function load_libs(css_urls, js_urls, callback) {\n    if (css_urls == null) css_urls = [];\n    if (js_urls == null) js_urls = [];\n\n    root._bokeh_onload_callbacks.push(callback);\n    if (root._bokeh_is_loading > 0) {\n      console.debug(\"Bokeh: BokehJS is being loaded, scheduling callback at\", now());\n      return null;\n    }\n    if (js_urls == null || js_urls.length === 0) {\n      run_callbacks();\n      return null;\n    }\n    console.debug(\"Bokeh: BokehJS not loaded, scheduling load and callback at\", now());\n    root._bokeh_is_loading = css_urls.length + js_urls.length;\n\n    function on_load() {\n      root._bokeh_is_loading--;\n      if (root._bokeh_is_loading === 0) {\n        console.debug(\"Bokeh: all BokehJS libraries/stylesheets loaded\");\n        run_callbacks()\n      }\n    }\n\n    function on_error() {\n      console.error(\"failed to load \" + url);\n    }\n\n    for (var i = 0; i < css_urls.length; i++) {\n      var url = css_urls[i];\n      const element = document.createElement(\"link\");\n      element.onload = on_load;\n      element.onerror = on_error;\n      element.rel = \"stylesheet\";\n      element.type = \"text/css\";\n      element.href = url;\n      console.debug(\"Bokeh: injecting link tag for BokehJS stylesheet: \", url);\n      document.body.appendChild(element);\n    }\n\n    for (var i = 0; i < js_urls.length; i++) {\n      var url = js_urls[i];\n      var element = document.createElement('script');\n      element.onload = on_load;\n      element.onerror = on_error;\n      element.async = false;\n      element.src = url;\n      console.debug(\"Bokeh: injecting script tag for BokehJS library: \", url);\n      document.head.appendChild(element);\n    }\n  };var element = document.getElementById(\"1001\");\n  if (element == null) {\n    console.error(\"Bokeh: ERROR: autoload.js configured with elementid '1001' but no matching script tag was found. \")\n    return false;\n  }\n\n  function inject_raw_css(css) {\n    const element = document.createElement(\"style\");\n    element.appendChild(document.createTextNode(css));\n    document.body.appendChild(element);\n  }\n\n  var js_urls = [\"https://cdn.pydata.org/bokeh/release/bokeh-1.3.4.min.js\", \"https://cdn.pydata.org/bokeh/release/bokeh-widgets-1.3.4.min.js\", \"https://cdn.pydata.org/bokeh/release/bokeh-tables-1.3.4.min.js\", \"https://cdn.pydata.org/bokeh/release/bokeh-gl-1.3.4.min.js\"];\n  var css_urls = [];\n\n  var inline_js = [\n    function(Bokeh) {\n      Bokeh.set_log_level(\"info\");\n    },\n    \n    function(Bokeh) {\n      \n    },\n    function(Bokeh) {} // ensure no trailing comma for IE\n  ];\n\n  function run_inline_js() {\n    \n    if ((root.Bokeh !== undefined) || (force === true)) {\n      for (var i = 0; i < inline_js.length; i++) {\n        inline_js[i].call(root, root.Bokeh);\n      }if (force === true) {\n        display_loaded();\n      }} else if (Date.now() < root._bokeh_timeout) {\n      setTimeout(run_inline_js, 100);\n    } else if (!root._bokeh_failed_load) {\n      console.log(\"Bokeh: BokehJS failed to load within specified timeout.\");\n      root._bokeh_failed_load = true;\n    } else if (force !== true) {\n      var cell = $(document.getElementById(\"1001\")).parents('.cell').data().cell;\n      cell.output_area.append_execute_result(NB_LOAD_WARNING)\n    }\n\n  }\n\n  if (root._bokeh_is_loading === 0) {\n    console.debug(\"Bokeh: BokehJS loaded, going straight to plotting\");\n    run_inline_js();\n  } else {\n    load_libs(css_urls, js_urls, function() {\n      console.debug(\"Bokeh: BokehJS plotting callback run at\", now());\n      run_inline_js();\n    });\n  }\n}(window));"
     },
     "metadata": {},
     "output_type": "display_data"
    }
   ],
   "source": [
    "import umap\n",
    "import umap.plot\n",
    "import pandas\n",
    "from bokeh.io import output_notebook\n",
    "import matplotlib.pyplot as plt\n",
    "output_notebook()"
   ]
  },
  {
   "cell_type": "code",
   "execution_count": 10,
   "metadata": {},
   "outputs": [],
   "source": [
    "hover = pandas.DataFrame()\n",
    "hover['data'] = vectorizer.column_label_dictionary_.keys()"
   ]
  },
  {
   "cell_type": "code",
   "execution_count": 11,
   "metadata": {},
   "outputs": [],
   "source": [
    "# We are just going to set a random seed for reproducibility \n",
    "mapper = umap.UMAP(metric = \"hellinger\", random_state=42).fit(count_matrix)"
   ]
  },
  {
   "cell_type": "code",
   "execution_count": 12,
   "metadata": {
    "scrolled": false
   },
   "outputs": [
    {
     "data": {
      "text/html": [
       "\n",
       "\n",
       "\n",
       "\n",
       "\n",
       "\n",
       "  <div class=\"bk-root\" id=\"c3655e3b-1f48-47b5-b02c-c2081a7c29fc\" data-root-id=\"1004\"></div>\n"
      ]
     },
     "metadata": {},
     "output_type": "display_data"
    },
    {
     "data": {
      "application/javascript": [
       "(function(root) {\n",
       "  function embed_document(root) {\n",
       "    \n",
       "  var docs_json = {\"306034f8-2c02-49e9-967a-d1390bfe698b\":{\"roots\":{\"references\":[{\"attributes\":{\"background_fill_color\":{\"value\":\"white\"},\"below\":[{\"id\":\"1013\",\"type\":\"LinearAxis\"}],\"center\":[{\"id\":\"1017\",\"type\":\"Grid\"},{\"id\":\"1022\",\"type\":\"Grid\"}],\"left\":[{\"id\":\"1018\",\"type\":\"LinearAxis\"}],\"plot_height\":800,\"plot_width\":800,\"renderers\":[{\"id\":\"1041\",\"type\":\"GlyphRenderer\"}],\"title\":{\"id\":\"1044\",\"type\":\"Title\"},\"toolbar\":{\"id\":\"1030\",\"type\":\"Toolbar\"},\"x_range\":{\"id\":\"1005\",\"type\":\"DataRange1d\"},\"x_scale\":{\"id\":\"1009\",\"type\":\"LinearScale\"},\"y_range\":{\"id\":\"1007\",\"type\":\"DataRange1d\"},\"y_scale\":{\"id\":\"1011\",\"type\":\"LinearScale\"}},\"id\":\"1004\",\"subtype\":\"Figure\",\"type\":\"Plot\"},{\"attributes\":{},\"id\":\"1009\",\"type\":\"LinearScale\"},{\"attributes\":{},\"id\":\"1050\",\"type\":\"UnionRenderers\"},{\"attributes\":{\"formatter\":{\"id\":\"1045\",\"type\":\"BasicTickFormatter\"},\"ticker\":{\"id\":\"1014\",\"type\":\"BasicTicker\"},\"visible\":false},\"id\":\"1013\",\"type\":\"LinearAxis\"},{\"attributes\":{},\"id\":\"1051\",\"type\":\"Selection\"},{\"attributes\":{},\"id\":\"1045\",\"type\":\"BasicTickFormatter\"},{\"attributes\":{},\"id\":\"1011\",\"type\":\"LinearScale\"},{\"attributes\":{\"callback\":null,\"tooltips\":[[\"data\",\"@data\"]]},\"id\":\"1029\",\"type\":\"HoverTool\"},{\"attributes\":{},\"id\":\"1024\",\"type\":\"WheelZoomTool\"},{\"attributes\":{},\"id\":\"1019\",\"type\":\"BasicTicker\"},{\"attributes\":{\"dimension\":1,\"ticker\":{\"id\":\"1019\",\"type\":\"BasicTicker\"},\"visible\":false},\"id\":\"1022\",\"type\":\"Grid\"},{\"attributes\":{\"bottom_units\":\"screen\",\"fill_alpha\":{\"value\":0.5},\"fill_color\":{\"value\":\"lightgrey\"},\"left_units\":\"screen\",\"level\":\"overlay\",\"line_alpha\":{\"value\":1.0},\"line_color\":{\"value\":\"black\"},\"line_dash\":[4,4],\"line_width\":{\"value\":2},\"render_mode\":\"css\",\"right_units\":\"screen\",\"top_units\":\"screen\"},\"id\":\"1049\",\"type\":\"BoxAnnotation\"},{\"attributes\":{\"text\":\"\"},\"id\":\"1044\",\"type\":\"Title\"},{\"attributes\":{},\"id\":\"1026\",\"type\":\"SaveTool\"},{\"attributes\":{\"callback\":null},\"id\":\"1007\",\"type\":\"DataRange1d\"},{\"attributes\":{\"overlay\":{\"id\":\"1049\",\"type\":\"BoxAnnotation\"}},\"id\":\"1025\",\"type\":\"BoxZoomTool\"},{\"attributes\":{},\"id\":\"1027\",\"type\":\"ResetTool\"},{\"attributes\":{},\"id\":\"1023\",\"type\":\"PanTool\"},{\"attributes\":{\"fill_alpha\":{\"value\":0.1},\"fill_color\":{\"value\":\"#1f77b4\"},\"line_alpha\":{\"value\":0.1},\"line_color\":{\"value\":\"#1f77b4\"},\"size\":{\"units\":\"screen\",\"value\":5},\"x\":{\"field\":\"x\"},\"y\":{\"field\":\"y\"}},\"id\":\"1040\",\"type\":\"Circle\"},{\"attributes\":{\"formatter\":{\"id\":\"1047\",\"type\":\"BasicTickFormatter\"},\"ticker\":{\"id\":\"1019\",\"type\":\"BasicTicker\"},\"visible\":false},\"id\":\"1018\",\"type\":\"LinearAxis\"},{\"attributes\":{\"source\":{\"id\":\"1003\",\"type\":\"ColumnDataSource\"}},\"id\":\"1042\",\"type\":\"CDSView\"},{\"attributes\":{},\"id\":\"1047\",\"type\":\"BasicTickFormatter\"},{\"attributes\":{},\"id\":\"1014\",\"type\":\"BasicTicker\"},{\"attributes\":{\"callback\":null},\"id\":\"1005\",\"type\":\"DataRange1d\"},{\"attributes\":{\"ticker\":{\"id\":\"1014\",\"type\":\"BasicTicker\"},\"visible\":false},\"id\":\"1017\",\"type\":\"Grid\"},{\"attributes\":{\"high\":9.995079100034136e-05,\"low\":1.628591163264348e-05,\"palette\":[\"#f7fbff\",\"#f6faff\",\"#f5fafe\",\"#f5f9fe\",\"#f4f9fe\",\"#f3f8fe\",\"#f2f8fd\",\"#f2f7fd\",\"#f1f7fd\",\"#f0f6fd\",\"#eff6fc\",\"#eef5fc\",\"#eef5fc\",\"#edf4fc\",\"#ecf4fb\",\"#ebf3fb\",\"#eaf3fb\",\"#eaf2fb\",\"#e9f2fa\",\"#e8f1fa\",\"#e7f1fa\",\"#e7f0fa\",\"#e6f0f9\",\"#e5eff9\",\"#e4eff9\",\"#e3eef9\",\"#e3eef8\",\"#e2edf8\",\"#e1edf8\",\"#e0ecf8\",\"#dfecf7\",\"#dfebf7\",\"#deebf7\",\"#ddeaf7\",\"#dceaf6\",\"#dce9f6\",\"#dbe9f6\",\"#dae8f6\",\"#d9e8f5\",\"#d9e7f5\",\"#d8e7f5\",\"#d7e6f5\",\"#d6e6f4\",\"#d6e5f4\",\"#d5e5f4\",\"#d4e4f4\",\"#d3e4f3\",\"#d3e3f3\",\"#d2e3f3\",\"#d1e2f3\",\"#d0e2f2\",\"#d0e1f2\",\"#cfe1f2\",\"#cee0f2\",\"#cde0f1\",\"#cddff1\",\"#ccdff1\",\"#cbdef1\",\"#cadef0\",\"#caddf0\",\"#c9ddf0\",\"#c8dcf0\",\"#c7dcef\",\"#c7dbef\",\"#c6dbef\",\"#c4daee\",\"#c3daee\",\"#c2d9ee\",\"#c1d9ed\",\"#bfd8ed\",\"#bed8ec\",\"#bdd7ec\",\"#bcd7eb\",\"#bad6eb\",\"#b9d6ea\",\"#b8d5ea\",\"#b7d4ea\",\"#b5d4e9\",\"#b4d3e9\",\"#b3d3e8\",\"#b2d2e8\",\"#b0d2e7\",\"#afd1e7\",\"#aed1e7\",\"#add0e6\",\"#abd0e6\",\"#aacfe5\",\"#a9cfe5\",\"#a8cee4\",\"#a6cee4\",\"#a5cde3\",\"#a4cce3\",\"#a3cce3\",\"#a1cbe2\",\"#a0cbe2\",\"#9fcae1\",\"#9dcae1\",\"#9cc9e1\",\"#9ac8e0\",\"#99c7e0\",\"#97c6df\",\"#95c5df\",\"#94c4df\",\"#92c4de\",\"#91c3de\",\"#8fc2de\",\"#8dc1dd\",\"#8cc0dd\",\"#8abfdd\",\"#89bedc\",\"#87bddc\",\"#85bcdc\",\"#84bcdb\",\"#82bbdb\",\"#81badb\",\"#7fb9da\",\"#7db8da\",\"#7cb7da\",\"#7ab6d9\",\"#79b5d9\",\"#77b5d9\",\"#75b4d8\",\"#74b3d8\",\"#72b2d8\",\"#71b1d7\",\"#6fb0d7\",\"#6dafd7\",\"#6caed6\",\"#6aaed6\",\"#69add5\",\"#68acd5\",\"#66abd4\",\"#65aad4\",\"#64a9d3\",\"#63a8d3\",\"#61a7d2\",\"#60a7d2\",\"#5fa6d1\",\"#5da5d1\",\"#5ca4d0\",\"#5ba3d0\",\"#5aa2cf\",\"#58a1cf\",\"#57a0ce\",\"#56a0ce\",\"#549fcd\",\"#539ecd\",\"#529dcc\",\"#519ccc\",\"#4f9bcb\",\"#4e9acb\",\"#4d99ca\",\"#4b98ca\",\"#4a98c9\",\"#4997c9\",\"#4896c8\",\"#4695c8\",\"#4594c7\",\"#4493c7\",\"#4292c6\",\"#4191c6\",\"#4090c5\",\"#3f8fc5\",\"#3e8ec4\",\"#3d8dc4\",\"#3c8cc3\",\"#3b8bc2\",\"#3a8ac2\",\"#3989c1\",\"#3888c1\",\"#3787c0\",\"#3686c0\",\"#3585bf\",\"#3484bf\",\"#3383be\",\"#3282be\",\"#3181bd\",\"#3080bd\",\"#2f7fbc\",\"#2e7ebc\",\"#2d7dbb\",\"#2c7cba\",\"#2b7bba\",\"#2a7ab9\",\"#2979b9\",\"#2777b8\",\"#2676b8\",\"#2575b7\",\"#2474b7\",\"#2373b6\",\"#2272b6\",\"#2171b5\",\"#2070b4\",\"#206fb4\",\"#1f6eb3\",\"#1e6db2\",\"#1d6cb1\",\"#1c6bb0\",\"#1c6ab0\",\"#1b69af\",\"#1a68ae\",\"#1967ad\",\"#1966ad\",\"#1865ac\",\"#1764ab\",\"#1663aa\",\"#1562a9\",\"#1561a9\",\"#1460a8\",\"#135fa7\",\"#125ea6\",\"#125da6\",\"#115ca5\",\"#105ba4\",\"#0f5aa3\",\"#0e59a2\",\"#0e58a2\",\"#0d57a1\",\"#0c56a0\",\"#0b559f\",\"#0a549e\",\"#0a539e\",\"#09529d\",\"#08519c\",\"#08509b\",\"#084f99\",\"#084e98\",\"#084d96\",\"#084c95\",\"#084b93\",\"#084a91\",\"#084990\",\"#08488e\",\"#08478d\",\"#08468b\",\"#08458a\",\"#084488\",\"#084387\",\"#084285\",\"#084184\",\"#084082\",\"#083e81\",\"#083d7f\",\"#083c7d\",\"#083b7c\",\"#083a7a\",\"#083979\",\"#083877\",\"#083776\",\"#083674\",\"#083573\",\"#083471\",\"#083370\",\"#08326e\",\"#08316d\",\"#08306b\"]},\"id\":\"1002\",\"type\":\"LinearColorMapper\"},{\"attributes\":{\"callback\":null,\"data\":{\"data\":[\"#define\",\"#include\",\"#qs\",\"#tq\",\"(8\",\")8\",\"/8\",\"0.0\",\"00\",\"000\",\"01\",\"02\",\"03\",\"04\",\"05\",\"06\",\"0d\",\"0m\",\"0q\",\"1-0\",\"1.0\",\"1.1\",\"1.2\",\"1.5\",\"1/2\",\"1/4\",\"1000\",\"101\",\"110\",\"120\",\"128\",\"130\",\"13p\",\"144\",\"147\",\"15.00\",\"150\",\"160\",\"16m\",\"19\",\"1980\",\"1982\",\"1983\",\"1984\",\"1985\",\"1986\",\"1987\",\"1988\",\"1989\",\"1990\",\"1991\",\"1d\",\"1d9l\",\"1eq\",\"1f\",\"1fpl\",\"1q\",\"1st\",\"1w\",\"1z4\",\"2.0\",\"2.1\",\"2.2\",\"2.5\",\"20.00\",\"200\",\"2000\",\"22\",\"23\",\"24e\",\"250\",\"256\",\"26\",\"28\",\"286\",\"29\",\"2d\",\"2j\",\"2nd\",\"2p\",\"2pl\",\"2pu\",\"2q\",\"2s\",\"2tm\",\"3.0\",\"3.1\",\"3.5\",\"300\",\"31\",\"33\",\"34l\",\"35\",\"36\",\"37\",\"38\",\"386\",\"39\",\"3b\",\"3c\",\"3d\",\"3dy\",\"3k\",\"3l\",\"3o\",\"3rd\",\"4.0\",\"4.1\",\"400\",\"41\",\"42\",\"43\",\"44\",\"46\",\"47\",\"48\",\"486\",\"49\",\"4e\",\"4t\",\"4th\",\"4u\",\"5-3\",\"5.0\",\"5.25\",\"500\",\"51\",\"52\",\"53\",\"54\",\"55\",\"55.0\",\"56\",\"57\",\"58\",\"59\",\"5g\",\"5u\",\"6.0\",\"60\",\"600\",\"61\",\"62\",\"63\",\"64\",\"65\",\"66\",\"67\",\"68\",\"69\",\"6e\",\"6ei\",\"6g\",\"6um\",\"70\",\"700\",\"71\",\"72\",\"73\",\"74\",\"75\",\"750\",\"76\",\"77\",\"78\",\"79\",\"7ex\",\"7ey\",\"7kn\",\"7u\",\"8)\",\"8/\",\"800\",\"81\",\"82\",\"83\",\"84\",\"85\",\"86\",\"87\",\"88\",\"89\",\"8:\",\"8\\\\\",\"8v\",\"90\",\"91\",\"92\",\"94\",\"95\",\"96\",\"99\",\"9f\",\"9l3\",\"9v\",\":8\",\":d\",\":p\",\";d\",\";p\",\"<3\",\"=d\",\"=p\",\"@8\",\"@h\",\"@l\",\"@s\",\"@u\",\"@x\",\"@y\",\"@z\",\"[8\",\"\\\\8\",\"]8\",\"]o;\",\"__\",\"_the\",\"a4\",\"a7\",\"abc\",\"ability\",\"absolute\",\"absolutely\",\"abuse\",\"ac\",\"academic\",\"accept\",\"acceptable\",\"accepted\",\"accident\",\"according\",\"account\",\"accounts\",\"accurate\",\"achieve\",\"acid\",\"acquired\",\"across\",\"act\",\"acting\",\"action\",\"actions\",\"active\",\"activities\",\"activity\",\"acts\",\"actual\",\"ad\",\"adam\",\"adams\",\"adaptec\",\"adapter\",\"added\",\"adding\",\"addition\",\"additional\",\"addresses\",\"adl\",\"administration\",\"admit\",\"advanced\",\"advantage\",\"advertising\",\"advice\",\"affairs\",\"affect\",\"affected\",\"afford\",\"afraid\",\"age\",\"agencies\",\"agency\",\"agenda\",\"agent\",\"agents\",\"agreed\",\"agreement\",\"ah\",\"ahead\",\"ahf\",\"ahl\",\"ai\",\"aid\",\"aids\",\"aimed\",\"aircraft\",\"al\",\"alcohol\",\"algorithm\",\"algorithms\",\"alive\",\"alleged\",\"allen\",\"allocation\",\"allowed\",\"allowing\",\"allows\",\"alone\",\"alot\",\"alternative\",\"aluminum\",\"amazing\",\"amendment\",\"america\",\"americans\",\"amiga\",\"amount\",\"amounts\",\"amp\",\"analog\",\"analogy\",\"analysis\",\"ancient\",\"andrew\",\"angeles\",\"angels\",\"angle\",\"animal\",\"animals\",\"animation\",\"announced\",\"announcement\",\"annoying\",\"annual\",\"anonymity\",\"ansi\",\"answered\",\"answers\",\"antenna\",\"anymore\",\"anywhere\",\"ap\",\"apart\",\"apartment\",\"apollo\",\"app\",\"apparent\",\"apparently\",\"appear\",\"appearance\",\"appeared\",\"appears\",\"apple\",\"applications\",\"applied\",\"applies\",\"apply\",\"appreciate\",\"appreciated\",\"approach\",\"appropriate\",\"approved\",\"approximately\",\"apps\",\"apr\",\"arab\",\"arabs\",\"arbitrary\",\"archive\",\"archive-name\",\"archives\",\"areas\",\"arena\",\"argic\",\"args\",\"argue\",\"arguing\",\"arguments\",\"arm\",\"armed\",\"armenia\",\"arms\",\"army\",\"arrived\",\"art\",\"articles\",\"ascii\",\"aside\",\"asking\",\"aspect\",\"aspects\",\"ass\",\"assault\",\"assembly\",\"assistance\",\"associated\",\"association\",\"assumed\",\"assuming\",\"assumption\",\"assumptions\",\"astronomical\",\"astronomy\",\"atf\",\"atheism\",\"atheist\",\"atheists\",\"ati\",\"atlanta\",\"atlantic\",\"atmosphere\",\"attached\",\"attack\",\"attacked\",\"attacking\",\"attacks\",\"attempt\",\"attempting\",\"attempts\",\"attention\",\"attitude\",\"attorney\",\"au\",\"audio\",\"august\",\"australia\",\"author\",\"authorities\",\"authority\",\"authorized\",\"authors\",\"auto\",\"automatic\",\"automatically\",\"availability\",\"avenue\",\"average\",\"avoid\",\"award\",\"aware\",\"awful\",\"azerbaijan\",\"azerbaijani\",\"azerbaijanis\",\"azeri\",\"azeris\",\"b4q\",\"b6\",\"b8\",\"b8e\",\"b8g\",\"b9r\",\"b_\",\"background\",\"backup\",\"baku\",\"balance\",\"ball\",\"baltimore\",\"ban\",\"band\",\"bank\",\"banks\",\"bar\",\"base\",\"baseball\",\"bases\",\"basic\",\"basically\",\"basis\",\"bat\",\"batf\",\"battery\",\"battle\",\"bay\",\"bbs\",\"bc\",\"beach\",\"bear\",\"beat\",\"beating\",\"beautiful\",\"became\",\"becomes\",\"becoming\",\"bed\",\"began\",\"begin\",\"beginning\",\"begins\",\"behavior\",\"behaviour\",\"behind\",\"beings\",\"belief\",\"beliefs\",\"believed\",\"believes\",\"believing\",\"bell\",\"belong\",\"benefit\",\"benefits\",\"besides\",\"bet\",\"beta\",\"beyond\",\"bh\",\"bhjn\",\"bias\",\"biblical\",\"bigger\",\"biggest\",\"bikes\",\"billion\",\"binaries\",\"binary\",\"bios\",\"birth\",\"bitmap\",\"bits\",\"biz\",\"bj\",\"bl\",\"blacks\",\"blame\",\"blind\",\"block\",\"blocks\",\"blood\",\"blow\",\"blue\",\"blues\",\"bm\",\"bmw\",\"bn\",\"boards\",\"bob\",\"bobby\",\"bodies\",\"bomb\",\"boot\",\"border\",\"borders\",\"borland\",\"born\",\"bos\",\"bosnia\",\"boston\",\"bother\",\"bottom\",\"bought\",\"bound\",\"boxes\",\"boy\",\"boys\",\"brain\",\"brake\",\"branch\",\"brand\",\"braves\",\"break\",\"breaking\",\"brian\",\"brief\",\"bring\",\"brings\",\"britain\",\"british\",\"broadcast\",\"broke\",\"broken\",\"brother\",\"brothers\",\"brought\",\"brown\",\"bruce\",\"bruins\",\"btw\",\"budget\",\"buf\",\"buffalo\",\"buffer\",\"bug\",\"bugs\",\"building\",\"built\",\"built-in\",\"bullets\",\"bunch\",\"burn\",\"burned\",\"burning\",\"burst\",\"bush\",\"button\",\"buying\",\"bx\",\"bxn\",\"byte\",\"bytes\",\"c8\",\"c8v\",\"c_\",\"ca\",\"cable\",\"cache\",\"cal\",\"calgary\",\"california\",\"calling\",\"calls\",\"cambridge\",\"camera\",\"campaign\",\"canada\",\"canadian\",\"cancer\",\"candida\",\"canon\",\"capabilities\",\"capability\",\"capable\",\"capacity\",\"capital\",\"caps\",\"captain\",\"cards\",\"career\",\"careful\",\"carefully\",\"carried\",\"carry\",\"carrying\",\"cars\",\"cash\",\"catalog\",\"catch\",\"category\",\"catholic\",\"caught\",\"caused\",\"causes\",\"causing\",\"cc\",\"cd\",\"cd-rom\",\"cells\",\"cellular\",\"centers\",\"central\",\"centris\",\"century\",\"cf\",\"chain\",\"challenge\",\"chance\",\"chances\",\"changed\",\"changes\",\"changing\",\"channel\",\"chapter\",\"char\",\"character\",\"characters\",\"charge\",\"charges\",\"charles\",\"chastity\",\"cheap\",\"cheaper\",\"check_io\",\"checked\",\"checking\",\"cheers\",\"chemical\",\"chi\",\"chicago\",\"chief\",\"child\",\"chinese\",\"chips\",\"choice\",\"choices\",\"choose\",\"chosen\",\"chris\",\"christianity\",\"churches\",\"chz\",\"cipher\",\"circle\",\"circuit\",\"circuits\",\"circumstances\",\"cities\",\"citizen\",\"citizens\",\"civil\",\"civilian\",\"civilians\",\"ck\",\"claimed\",\"claiming\",\"claims\",\"class\",\"classes\",\"classic\",\"classified\",\"clean\",\"clearly\",\"cleveland\",\"client\",\"clients\",\"clinical\",\"clinton\",\"clock\",\"close\",\"closed\",\"closely\",\"closer\",\"club\",\"co\",\"coach\",\"coast\",\"codes\",\"col\",\"cold\",\"collection\",\"college\",\"colorado\",\"colormap\",\"colors\",\"colour\",\"columbia\",\"column\",\"com\",\"combination\",\"combined\",\"command\",\"commands\",\"comment\",\"comments\",\"commercial\",\"commitment\",\"committed\",\"committee\",\"commonly\",\"communication\",\"communications\",\"communities\",\"community\",\"companies\",\"comparable\",\"compare\",\"compared\",\"comparison\",\"compatible\",\"compile\",\"compiled\",\"compiler\",\"complain\",\"complete\",\"completely\",\"complex\",\"complicated\",\"components\",\"compound\",\"comprehensive\",\"compressed\",\"compression\",\"compromise\",\"computers\",\"computing\",\"concealed\",\"concept\",\"concern\",\"concerned\",\"concerning\",\"concerns\",\"conclude\",\"conclusion\",\"conclusions\",\"condition\",\"conditions\",\"conduct\",\"conductor\",\"conference\",\"configuration\",\"conflict\",\"confused\",\"congress\",\"connect\",\"connected\",\"connection\",\"connections\",\"connector\",\"consequences\",\"consideration\",\"considered\",\"considering\",\"consistent\",\"consists\",\"constant\",\"constitution\",\"constitutional\",\"construction\",\"contacts\",\"contain\",\"contained\",\"containing\",\"contains\",\"content\",\"contents\",\"contest\",\"context\",\"continue\",\"continued\",\"continues\",\"contract\",\"contrary\",\"contrib\",\"controlled\",\"controls\",\"conversation\",\"conversations\",\"conversion\",\"convert\",\"converted\",\"converter\",\"convince\",\"convinced\",\"cool\",\"cooling\",\"cooperation\",\"copies\",\"cops\",\"copyright\",\"core\",\"corner\",\"corp\",\"corporation\",\"correctly\",\"costs\",\"council\",\"count\",\"countries\",\"county\",\"courses\",\"court\",\"courts\",\"cover\",\"coverage\",\"covered\",\"covers\",\"cpu\",\"crack\",\"crap\",\"crash\",\"crazy\",\"create\",\"created\",\"creating\",\"creation\",\"credit\",\"crew\",\"crimes\",\"criminal\",\"criminals\",\"criteria\",\"critical\",\"cross\",\"crowd\",\"crypto\",\"cryptographic\",\"cryptography\",\"cs\",\"cubs\",\"cult\",\"cultural\",\"culture\",\"cup\",\"cure\",\"curious\",\"cursor\",\"custom\",\"customers\",\"cut\",\"cycle\",\"cylinders\",\"cyprus\",\"cz\",\"d6\",\"d9\",\"da\",\"daily\",\"dale\",\"dallas\",\"damage\",\"damn\",\"dan\",\"danger\",\"dangerous\",\"dark\",\"database\",\"date\",\"daughter\",\"dave\",\"dc\",\"de\",\"dealer\",\"dealers\",\"dealing\",\"dear\",\"deaths\",\"debate\",\"dec\",\"december\",\"decent\",\"decide\",\"decided\",\"decision\",\"decisions\",\"decrypt\",\"deep\",\"default\",\"defend\",\"defense\",\"defenseman\",\"defensive\",\"define\",\"defined\",\"definitely\",\"definition\",\"degree\",\"degrees\",\"deleted\",\"demand\",\"demo\",\"democracy\",\"democratic\",\"den\",\"denied\",\"deny\",\"department\",\"depend\",\"depending\",\"depends\",\"dept\",\"depth\",\"des\",\"describe\",\"described\",\"describes\",\"description\",\"deserve\",\"design\",\"designed\",\"desire\",\"desired\",\"desk\",\"desktop\",\"despite\",\"destroy\",\"destroyed\",\"destruction\",\"det\",\"detail\",\"detailed\",\"details\",\"detect\",\"detector\",\"determine\",\"determined\",\"detroit\",\"develop\",\"developed\",\"developing\",\"development\",\"device\",\"devices\",\"devils\",\"di\",\"dialog\",\"diamond\",\"dictionary\",\"die\",\"died\",\"diego\",\"diet\",\"differences\",\"difficult\",\"digital\",\"direct\",\"directed\",\"direction\",\"directly\",\"director\",\"directories\",\"disagree\",\"disciples\",\"disclaimer\",\"discovered\",\"discuss\",\"discussed\",\"discussing\",\"discussions\",\"disease\",\"diseases\",\"disks\",\"displays\",\"distance\",\"distributed\",\"distribution\",\"district\",\"divine\",\"division\",\"dl\",\"dma\",\"doctor\",\"doctors\",\"doctrine\",\"document\",\"documentation\",\"documents\",\"dod\",\"dog\",\"dogs\",\"dollars\",\"domain\",\"door\",\"doors\",\"dot\",\"double\",\"doubt\",\"doug\",\"douglas\",\"dpy\",\"dr\",\"draft\",\"drag\",\"draw\",\"drawing\",\"dream\",\"drink\",\"driven\",\"driving\",\"drop\",\"dropped\",\"drug\",\"drugs\",\"dual\",\"duo\",\"duty\",\"earlier\",\"easier\",\"easily\",\"east\",\"easter\",\"eastern\",\"eat\",\"eating\",\"echo\",\"economic\",\"economy\",\"ed\",\"edge\",\"edition\",\"editor\",\"edm\",\"edmonton\",\"edt\",\"education\",\"educational\",\"eff\",\"effective\",\"effectively\",\"effects\",\"effort\",\"efforts\",\"eg\",\"eh\",\"ei\",\"eight\",\"eisa\",\"electric\",\"electrical\",\"electronic\",\"electronics\",\"element\",\"elements\",\"elsewhere\",\"em\",\"emergency\",\"emphasis\",\"empire\",\"empty\",\"en\",\"enable\",\"encourage\",\"encrypted\",\"ended\",\"ends\",\"energy\",\"enforcement\",\"engine\",\"engineer\",\"engineering\",\"engines\",\"england\",\"english\",\"enhanced\",\"enjoy\",\"ensure\",\"enter\",\"entered\",\"entering\",\"entire\",\"entirely\",\"entries\",\"environment\",\"environmental\",\"eof_not_ok\",\"equal\",\"equally\",\"equipment\",\"equivalent\",\"er\",\"era\",\"eric\",\"errors\",\"escape\",\"escrow\",\"espn\",\"essential\",\"essentially\",\"establish\",\"established\",\"et\",\"eternal\",\"ethernet\",\"ethnic\",\"eu\",\"europe\",\"european\",\"evening\",\"event\",\"events\",\"eventually\",\"everybody\",\"everywhere\",\"evil\",\"evolution\",\"ex\",\"exact\",\"examine\",\"examples\",\"excellent\",\"exception\",\"exchange\",\"excuse\",\"executive\",\"exercise\",\"existed\",\"existence\",\"existing\",\"exists\",\"exit\",\"expansion\",\"expect\",\"expected\",\"expensive\",\"experienced\",\"experiences\",\"experiment\",\"experimental\",\"expert\",\"experts\",\"explain\",\"explained\",\"explanation\",\"explicitly\",\"exploration\",\"export\",\"export.lcs.mit.edu\",\"exposure\",\"express\",\"expressed\",\"extended\",\"extension\",\"extensive\",\"extent\",\"external\",\"extra\",\"extreme\",\"extremely\",\"eye\",\"eyes\",\"facilities\",\"facility\",\"factor\",\"factors\",\"facts\",\"fail\",\"failed\",\"fails\",\"failure\",\"fair\",\"fairly\",\"fall\",\"fallacy\",\"falls\",\"false\",\"familiar\",\"families\",\"family\",\"famous\",\"fan\",\"fans\",\"faster\",\"fat\",\"fatal\",\"father\",\"fault\",\"favor\",\"favorite\",\"fbi\",\"fear\",\"feature\",\"features\",\"feb\",\"february\",\"federal\",\"feds\",\"fee\",\"feed\",\"feeling\",\"feelings\",\"feels\",\"feet\",\"fell\",\"fellow\",\"felt\",\"female\",\"fewer\",\"field\",\"fields\",\"fifth\",\"fight\",\"fighting\",\"figure\",\"figures\",\"fij\",\"filename\",\"fill\",\"filled\",\"film\",\"filter\",\"final\",\"finally\",\"finding\",\"finger\",\"finish\",\"finished\",\"finland\",\"firearm\",\"firearms\",\"fired\",\"firm\",\"fit\",\"fits\",\"five\",\"fix\",\"fixed\",\"flame\",\"flames\",\"flat\",\"flight\",\"floor\",\"floppy\",\"florida\",\"flow\",\"fly\",\"flyers\",\"flying\",\"focus\",\"folks\",\"follow\",\"followed\",\"followers\",\"follows\",\"font\",\"fonts\",\"food\",\"foods\",\"foot\",\"forced\",\"forces\",\"ford\",\"foreign\",\"forever\",\"forget\",\"forgot\",\"formats\",\"former\",\"forms\",\"forth\",\"forum\",\"forward\",\"foundation\",\"fourth\",\"fprintf\",\"fpu\",\"frame\",\"france\",\"francis\",\"francisco\",\"frank\",\"freedom\",\"freely\",\"french\",\"frequency\",\"frequently\",\"friday\",\"friend\",\"friends\",\"front\",\"fuel\",\"fully\",\"fun\",\"function\",\"functionality\",\"functions\",\"fund\",\"fundamental\",\"funding\",\"funds\",\"funny\",\"furthermore\",\"fyn\",\"g6\",\"g9\",\"g9p\",\"gain\",\"gary\",\"gas\",\"gateway\",\"gave\",\"gay\",\"gaza\",\"gb\",\"gc\",\"gear\",\"geb@cadre.dsl.pitt.edu\",\"gee\",\"generally\",\"generate\",\"generated\",\"generation\",\"genesis\",\"genocide\",\"geometry\",\"george\",\"georgia\",\"german\",\"germans\",\"germany\",\"ghj\",\"gif\",\"gives\",\"giving\",\"gizw\",\"gk\",\"gl\",\"glad\",\"glass\",\"global\",\"gm\",\"gmt\",\"goal\",\"goals\",\"god's\",\"gods\",\"gold\",\"gone\",\"gonna\",\"gordon\",\"gospel\",\"gotten\",\"governments\",\"gq\",\"grace\",\"grade\",\"grand\",\"grant\",\"granted\",\"gravity\",\"greater\",\"greatest\",\"greatly\",\"greece\",\"greek\",\"greeks\",\"green\",\"greg\",\"grounding\",\"grounds\",\"growth\",\"guarantee\",\"guaranteed\",\"guard\",\"guide\",\"guidelines\",\"guilty\",\"guns\",\"guy\",\"guys\",\"ha\",\"hair\",\"half\",\"hall\",\"handgun\",\"handguns\",\"handle\",\"handling\",\"hands\",\"happen\",\"happening\",\"happens\",\"happy\",\"har\",\"harder\",\"hardly\",\"harm\",\"hartford\",\"hate\",\"hawks\",\"hd\",\"he'd\",\"he'll\",\"header\",\"heads\",\"healthy\",\"hearing\",\"heart\",\"heat\",\"heaven\",\"heavy\",\"hebrew\",\"height\",\"held\",\"hello\",\"helmet\",\"helped\",\"helpful\",\"helps\",\"hence\",\"henrik\",\"here's\",\"hey\",\"hicnet\",\"hidden\",\"hide\",\"higher\",\"highest\",\"highly\",\"highway\",\"hints\",\"historical\",\"hit\",\"hitler\",\"hits\",\"hitting\",\"hiv\",\"hj\",\"hm\",\"hmm\",\"hmmm\",\"hold\",\"holding\",\"holds\",\"hole\",\"holes\",\"holocaust\",\"holy\",\"homes\",\"homicide\",\"homosexual\",\"homosexuality\",\"homosexuals\",\"honda\",\"honest\",\"honor\",\"hook\",\"hopefully\",\"hoping\",\"hospital\",\"host\",\"hot\",\"hour\",\"hours\",\"houses\",\"houston\",\"hp\",\"hr\",\"huge\",\"huh\",\"humanity\",\"humans\",\"hundred\",\"hundreds\",\"hurt\",\"hz\",\"i4\",\"ibm\",\"ice\",\"icon\",\"id\",\"ide\",\"ideal\",\"ideas\",\"identical\",\"identification\",\"identified\",\"identify\",\"identity\",\"ie\",\"ignorance\",\"ignorant\",\"ignore\",\"ignored\",\"ii\",\"iii\",\"il\",\"illegal\",\"illinois\",\"im\",\"imagine\",\"imaging\",\"imho\",\"immediate\",\"immediately\",\"immoral\",\"imo\",\"impact\",\"implement\",\"implementation\",\"implemented\",\"imply\",\"importance\",\"impossible\",\"impression\",\"impressive\",\"improve\",\"improved\",\"improvement\",\"inc\",\"inch\",\"incident\",\"income\",\"incoming\",\"incorrect\",\"increase\",\"increased\",\"increases\",\"increasing\",\"indeed\",\"independent\",\"index\",\"indicate\",\"indicates\",\"individual\",\"individuals\",\"industrial\",\"industry\",\"influence\",\"infrastructure\",\"initial\",\"initiative\",\"injured\",\"injuries\",\"injury\",\"innocent\",\"input\",\"insert\",\"inside\",\"insist\",\"install\",\"installation\",\"installed\",\"instance\",\"institute\",\"instruction\",\"instructions\",\"instruments\",\"insurance\",\"int\",\"integrated\",\"intel\",\"intellect\",\"intelligence\",\"intelligent\",\"intend\",\"intended\",\"intent\",\"interactive\",\"interest\",\"interests\",\"interference\",\"internal\",\"international\",\"interpret\",\"interpretation\",\"introduced\",\"introduction\",\"investigation\",\"investment\",\"involve\",\"involved\",\"ioccc\",\"ip\",\"iq\",\"iran\",\"irq\",\"irrelevant\",\"isa\",\"isbn\",\"islam\",\"islamic\",\"island\",\"islanders\",\"israelis\",\"issued\",\"issues\",\"istanbul\",\"item\",\"items\",\"iv\",\"jack\",\"jackson\",\"james\",\"jan\",\"january\",\"japan\",\"japanese\",\"jason\",\"jeff\",\"jersey\",\"jerusalem\",\"jets\",\"jew\",\"jim\",\"job\",\"jobs\",\"joe\",\"john's\",\"johnson\",\"join\",\"joint\",\"joke\",\"jon\",\"jose\",\"joseph\",\"journal\",\"jpeg\",\"jr\",\"judas\",\"judge\",\"judgement\",\"judges\",\"july\",\"jump\",\"jumper\",\"jumpers\",\"june\",\"junk\",\"justice\",\"justified\",\"justify\",\"jz\",\"k8\",\"karina\",\"keeping\",\"keeps\",\"keith\",\"ken\",\"kent\",\"kept\",\"kevin\",\"keyboard\",\"kg\",\"kh\",\"kid\",\"kids\",\"killing\",\"kinds\",\"king\",\"kingdom\",\"kings\",\"kit\",\"kjz\",\"kk\",\"km\",\"kn\",\"knew\",\"knife\",\"knowing\",\"knowledge\",\"knows\",\"koresh\",\"kt\",\"kurds\",\"la\",\"lab\",\"labor\",\"laboratory\",\"lack\",\"land\",\"lane\",\"language\",\"largely\",\"larger\",\"larry\",\"laser\",\"late\",\"latest\",\"latter\",\"launch\",\"launched\",\"lay\",\"lc\",\"lead\",\"leader\",\"leaders\",\"leadership\",\"leading\",\"leads\",\"leafs\",\"learn\",\"learned\",\"learning\",\"leave\",\"leaves\",\"leaving\",\"lebanese\",\"lebanon\",\"led\",\"lee\",\"legal\",\"legally\",\"legislation\",\"legitimate\",\"lemieux\",\"length\",\"lets\",\"letter\",\"letters\",\"letting\",\"levels\",\"lewis\",\"lg\",\"liar\",\"lib\",\"liberal\",\"liberties\",\"liberty\",\"libraries\",\"library\",\"license\",\"lie\",\"lies\",\"lights\",\"limit\",\"limited\",\"limits\",\"lindros\",\"link\",\"linked\",\"links\",\"linux\",\"listed\",\"listen\",\"listening\",\"listing\",\"lists\",\"literally\",\"literature\",\"lived\",\"lives\",\"living\",\"lj\",\"lk\",\"load\",\"loaded\",\"located\",\"location\",\"lock\",\"log\",\"logic\",\"logical\",\"login\",\"london\",\"longer\",\"looked\",\"looks\",\"loop\",\"lord\",\"los\",\"lose\",\"losing\",\"loss\",\"lots\",\"louis\",\"lower\",\"luck\",\"lucky\",\"luke\",\"lunar\",\"lying\",\"m0\",\"m1\",\"m2\",\"m3\",\"m4\",\"m5\",\"m6\",\"m7\",\"m8\",\"m9\",\"m_\",\"machines\",\"macintosh\",\"macs\",\"magazine\",\"magazines\",\"magic\",\"mailing\",\"main\",\"mainly\",\"maintain\",\"maintained\",\"majority\",\"male\",\"mamma\",\"managed\",\"management\",\"manager\",\"manipulation\",\"manner\",\"manual\",\"manuals\",\"manufacturer\",\"manufacturers\",\"map\",\"mapping\",\"marc\",\"march\",\"market\",\"marketing\",\"marriage\",\"married\",\"mars\",\"martin\",\"mary\",\"mask\",\"mass\",\"massacre\",\"master\",\"match\",\"material\",\"materials\",\"math\",\"mathematical\",\"matt\",\"matters\",\"matthew\",\"maximum\",\"mb8f\",\"mc\",\"md\",\"meaning\",\"meant\",\"measure\",\"measures\",\"mechanism\",\"media\",\"medical\",\"medicine\",\"meet\",\"meeting\",\"meg\",\"megs\",\"member\",\"members\",\"membership\",\"mention\",\"mentioned\",\"menu\",\"merely\",\"mess\",\"messages\",\"messiah\",\"met\",\"metal\",\"method\",\"methods\",\"mg\",\"mg9v\",\"mh\",\"mhz\",\"mi\",\"michael\",\"microsoft\",\"mid\",\"middle\",\"mike\",\"mile\",\"miles\",\"militia\",\"miller\",\"million\",\"millions\",\"milwaukee\",\"min\",\"minds\",\"mine\",\"minimal\",\"minimum\",\"minister\",\"ministry\",\"minnesota\",\"minor\",\"minorities\",\"minority\",\"minute\",\"minutes\",\"mirror\",\"mirrors\",\"misc\",\"miss\",\"missed\",\"missing\",\"mission\",\"missions\",\"mistake\",\"mistakes\",\"mit\",\"mj\",\"mk\",\"ml\",\"mm\",\"mn\",\"mo\",\"models\",\"modem\",\"modern\",\"modes\",\"modified\",\"modify\",\"module\",\"moment\",\"mon\",\"monday\",\"monitors\",\"month\",\"monthly\",\"montreal\",\"moon\",\"moral\",\"morality\",\"mormon\",\"morning\",\"morris\",\"moscow\",\"mostly\",\"mother\",\"motherboard\",\"motion\",\"motor\",\"motorcycle\",\"motorola\",\"mount\",\"mountain\",\"mountains\",\"mouse\",\"mouth\",\"mov\",\"moved\",\"movement\",\"moves\",\"movie\",\"moving\",\"mp\",\"mph\",\"mq\",\"ms\",\"msdos\",\"msg\",\"mt\",\"mu\",\"multiple\",\"murder\",\"murdered\",\"murphy\",\"murray\",\"music\",\"muslim\",\"muslims\",\"mv\",\"mw\",\"mx\",\"myers\",\"mz\",\"n3jxp\",\"named\",\"names\",\"nation\",\"nations\",\"natural\",\"naturally\",\"nature\",\"naval\",\"navy\",\"nazi\",\"nazis\",\"nb\",\"nearly\",\"neat\",\"nec\",\"necessarily\",\"necessary\",\"negative\",\"neighbor\",\"neighbors\",\"neither\",\"netters\",\"network\",\"networks\",\"neutral\",\"newer\",\"newsgroup\",\"newsgroups\",\"newsletter\",\"newspaper\",\"nhl\",\"night\",\"nine\",\"nj\",\"nk\",\"nl\",\"nobody\",\"noise\",\"non\",\"none\",\"normal\",\"normally\",\"north\",\"northern\",\"norton\",\"noted\",\"notes\",\"notice\",\"noticed\",\"notion\",\"november\",\"nra\",\"nrhj\",\"nsa\",\"nt\",\"nubus\",\"nuclear\",\"null\",\"numerous\",\"nuy\",\"ny\",\"nyi\",\"nyr\",\"obfuscated\",\"object\",\"objective\",\"objects\",\"obo\",\"observation\",\"observations\",\"obtain\",\"obtained\",\"obvious\",\"obviously\",\"occupation\",\"occupied\",\"occur\",\"occurred\",\"occurs\",\"october\",\"odd\",\"offense\",\"offensive\",\"offered\",\"offers\",\"officer\",\"officers\",\"official\",\"officials\",\"offset\",\"ohio\",\"oil\",\"okay\",\"okz\",\"older\",\"oname\",\"one's\",\"online\",\"onto\",\"opened\",\"opening\",\"openwindows\",\"operate\",\"operating\",\"operation\",\"operations\",\"opinion\",\"opinions\",\"opportunity\",\"opposed\",\"opposite\",\"opposition\",\"option\",\"optional\",\"options\",\"orbit\",\"orbital\",\"orbiter\",\"ordered\",\"orders\",\"ordinary\",\"organization\",\"organizations\",\"organized\",\"orientation\",\"origin\",\"originally\",\"orthodox\",\"os\",\"ot\",\"otherwise\",\"ott\",\"ottawa\",\"ottoman\",\"ought\",\"outlets\",\"outside\",\"overall\",\"owned\",\"owner\",\"owners\",\"ownership\",\"p1\",\"p2\",\"p3\",\"p8\",\"p=\",\"pack\",\"packages\",\"page\",\"pages\",\"paid\",\"pain\",\"paint\",\"pair\",\"palestine\",\"palestinian\",\"palestinians\",\"panel\",\"paper\",\"papers\",\"paradox\",\"paragraph\",\"parallel\",\"parameters\",\"parent\",\"parents\",\"park\",\"participate\",\"particularly\",\"parties\",\"party\",\"pass\",\"passage\",\"passages\",\"passed\",\"passing\",\"password\",\"pat\",\"patch\",\"patches\",\"path\",\"patient\",\"patients\",\"patrick\",\"pattern\",\"paul\",\"paying\",\"payload\",\"peace\",\"penalties\",\"penalty\",\"pens\",\"people's\",\"percent\",\"percentage\",\"perfect\",\"perfectly\",\"perform\",\"performance\",\"performed\",\"permanent\",\"permission\",\"permit\",\"personally\",\"persons\",\"perspective\",\"peter\",\"pgp\",\"ph\",\"phase\",\"phi\",\"phil\",\"philadelphia\",\"phillies\",\"philosophy\",\"phones\",\"phrase\",\"physical\",\"physics\",\"pick\",\"picked\",\"picture\",\"pictures\",\"piece\",\"pieces\",\"pin\",\"pins\",\"pit\",\"pitch\",\"pitcher\",\"pitching\",\"pittsburgh\",\"pixel\",\"pixels\",\"pixmap\",\"placed\",\"places\",\"plain\",\"plaintext\",\"plan\",\"plane\",\"planes\",\"planet\",\"planetary\",\"planned\",\"planning\",\"plans\",\"plant\",\"plastic\",\"plate\",\"platforms\",\"played\",\"player\",\"playing\",\"playoff\",\"playoffs\",\"plays\",\"plenty\",\"plot\",\"plug\",\"pm\",\"pmf\",\"pointed\",\"pointer\",\"pointing\",\"policies\",\"policy\",\"political\",\"politics\",\"pool\",\"poor\",\"pop\",\"pope\",\"popular\",\"population\",\"port\",\"portable\",\"portion\",\"ports\",\"positions\",\"positive\",\"possibility\",\"possibly\",\"poster\",\"posters\",\"postings\",\"posts\",\"postscript\",\"potential\",\"powerful\",\"powers\",\"pp\",\"practical\",\"practice\",\"pray\",\"prayer\",\"precisely\",\"predictions\",\"prefer\",\"preferably\",\"prepared\",\"presence\",\"present\",\"presented\",\"pressure\",\"presumably\",\"prevent\",\"previous\",\"previously\",\"prices\",\"priests\",\"primarily\",\"primary\",\"prime\",\"principle\",\"principles\",\"print\",\"printed\",\"printer\",\"printers\",\"printf\",\"printing\",\"prior\",\"prison\",\"pro\",\"probe\",\"probes\",\"procedure\",\"procedures\",\"proceedings\",\"processing\",\"processor\",\"produce\",\"produced\",\"produces\",\"product\",\"production\",\"products\",\"professional\",\"professor\",\"prog\",\"programming\",\"progress\",\"project\",\"projects\",\"promise\",\"promised\",\"promote\",\"proof\",\"propaganda\",\"proper\",\"properly\",\"property\",\"prophecy\",\"prophet\",\"proposal\",\"proposed\",\"propulsion\",\"protect\",\"protected\",\"protecting\",\"protection\",\"protocol\",\"prove\",\"proved\",\"proven\",\"provided\",\"provides\",\"providing\",\"ps\",\"pt\",\"pts\",\"pu\",\"publication\",\"publicly\",\"published\",\"puck\",\"pull\",\"pulled\",\"punishment\",\"purchase\",\"purchased\",\"pure\",\"purpose\",\"purposes\",\"push\",\"puts\",\"putting\",\"q6\",\"qax\",\"qq\",\"qtm\",\"quadra\",\"quality\",\"quantum\",\"que\",\"quebec\",\"quick\",\"quickly\",\"quiet\",\"quote\",\"quoted\",\"quotes\",\"qur'an\",\"qy\",\"r186\",\"r3\",\"r4\",\"r5\",\"r8f\",\"r_\",\"ra\",\"race\",\"radar\",\"radio\",\"radius\",\"raise\",\"raised\",\"ran\",\"random\",\"range\",\"rangers\",\"rare\",\"rates\",\"ratio\",\"rational\",\"ray\",\"rck\",\"rd\",\"reach\",\"reached\",\"reaction\",\"reader\",\"readers\",\"reads\",\"ready\",\"reality\",\"realize\",\"realized\",\"rear\",\"reasonable\",\"reasonably\",\"reasoning\",\"reasons\",\"recall\",\"recchi\",\"receive\",\"received\",\"receiver\",\"receiving\",\"recent\",\"recently\",\"recognize\",\"recognized\",\"recommend\",\"recommended\",\"record\",\"records\",\"red\",\"reduce\",\"reduced\",\"refer\",\"reference\",\"references\",\"referred\",\"referring\",\"reform\",\"refuse\",\"refused\",\"regard\",\"regarding\",\"regardless\",\"regards\",\"region\",\"register\",\"registered\",\"registration\",\"regular\",\"regularly\",\"regulations\",\"reject\",\"related\",\"relations\",\"relationship\",\"relative\",\"relatively\",\"release\",\"released\",\"relevant\",\"reliable\",\"religions\",\"religious\",\"rely\",\"remain\",\"remaining\",\"remains\",\"remark\",\"remarks\",\"remote\",\"remove\",\"removed\",\"removing\",\"rendering\",\"repair\",\"repeat\",\"repeated\",\"replace\",\"replaced\",\"replacement\",\"replies\",\"reply\",\"report\",\"reported\",\"reports\",\"represent\",\"representative\",\"representatives\",\"republic\",\"republicans\",\"request\",\"requests\",\"require\",\"required\",\"requirement\",\"requirements\",\"requires\",\"reserve\",\"resistance\",\"resolution\",\"resource\",\"resources\",\"respect\",\"respond\",\"responded\",\"response\",\"responses\",\"responsibility\",\"responsible\",\"restrictions\",\"result\",\"resulting\",\"results\",\"resurrection\",\"returned\",\"returns\",\"revealed\",\"revelation\",\"reverse\",\"review\",\"rg\",\"ri\",\"rich\",\"richard\",\"rid\",\"ride\",\"rider\",\"ridiculous\",\"riding\",\"ring\",\"ripem\",\"rise\",\"risk\",\"risks\",\"rk\",\"rkba\",\"rl\",\"rlk\",\"rm\",\"road\",\"roads\",\"rob\",\"robert\",\"rochester\",\"rock\",\"rocket\",\"rockets\",\"roger\",\"role\",\"rom\",\"roman\",\"ron\",\"room\",\"root\",\"rose\",\"roughly\",\"round\",\"routine\",\"routines\",\"row\",\"roy\",\"rs\",\"rsa\",\"rule\",\"ruled\",\"russia\",\"russian\",\"russians\",\"ryan\",\"s1\",\"s2\",\"s3\",\"s6\",\"sabbath\",\"sabres\",\"sad\",\"safe\",\"safety\",\"sake\",\"sales\",\"salvation\",\"sample\",\"san\",\"santa\",\"sat\",\"satan\",\"satellite\",\"satellites\",\"saturday\",\"saturn\",\"save\",\"saved\",\"saves\",\"sb\",\"sc\",\"sc_\",\"scale\",\"scan\",\"scanner\",\"schedule\",\"scheme\",\"scholars\",\"school\",\"schools\",\"sci.crypt\",\"scientific\",\"scientists\",\"scope\",\"score\",\"scored\",\"scorer\",\"scores\",\"scoring\",\"scott\",\"screw\",\"script\",\"scripture\",\"scriptures\",\"scx\",\"se\",\"sea\",\"search\",\"seat\",\"seats\",\"seattle\",\"sec\",\"seconds\",\"secret\",\"secretary\",\"sections\",\"sector\",\"secular\",\"secure\",\"seeing\",\"seek\",\"seemed\",\"select\",\"selected\",\"selection\",\"self\",\"self-defense\",\"selling\",\"sells\",\"senate\",\"senator\",\"senators\",\"sending\",\"senior\",\"sensitive\",\"sentence\",\"separate\",\"sequence\",\"serbs\",\"serdar\",\"serial\",\"serious\",\"seriously\",\"serve\",\"served\",\"servers\",\"serves\",\"services\",\"session\",\"sets\",\"setting\",\"settings\",\"setup\",\"seven\",\"severe\",\"sex\",\"sexual\",\"sgi\",\"sh\",\"shall\",\"shameful\",\"shape\",\"share\",\"shared\",\"shareware\",\"sharks\",\"sheet\",\"shell\",\"shift\",\"ship\",\"shipping\",\"shit\",\"shoot\",\"shooting\",\"shop\",\"shot\",\"shots\",\"shouting\",\"showed\",\"showing\",\"shown\",\"shows\",\"shut\",\"shuttle\",\"si\",\"sick\",\"sides\",\"sign\",\"signal\",\"signals\",\"signature\",\"signed\",\"significant\",\"significantly\",\"signs\",\"silly\",\"silver\",\"similarly\",\"simm\",\"simms\",\"sin\",\"sins\",\"sit\",\"site\",\"sites\",\"sitting\",\"situations\",\"six\",\"sj\",\"sk\",\"skepticism\",\"skills\",\"skin\",\"sky\",\"sl\",\"slave\",\"sleep\",\"slightly\",\"slot\",\"slots\",\"slow\",\"slower\",\"smaller\",\"smart\",\"smith\",\"smoke\",\"snow\",\"so-called\",\"social\",\"socket\",\"soderstrom\",\"soft\",\"solar\",\"sold\",\"soldiers\",\"solid\",\"solution\",\"solutions\",\"solve\",\"somebody\",\"somehow\",\"somewhat\",\"somewhere\",\"son\",\"sony\",\"sorts\",\"soul\",\"sounds\",\"sources\",\"south\",\"southern\",\"soviet\",\"sox\",\"sp\",\"spacecraft\",\"sparc\",\"spare\",\"speak\",\"speaker\",\"speakers\",\"speaking\",\"spec\",\"specific\",\"specifically\",\"specified\",\"specify\",\"specs\",\"spectrum\",\"speech\",\"speeds\",\"spend\",\"spending\",\"spent\",\"spirit\",\"spiritual\",\"split\",\"spoke\",\"sport\",\"sports\",\"spot\",\"spread\",\"spring\",\"sq\",\"square\",\"ss\",\"stable\",\"staff\",\"stage\",\"stand\",\"standards\",\"standing\",\"standings\",\"stands\",\"stanley\",\"star\",\"stars\",\"starting\",\"starts\",\"startup\",\"stated\",\"statements\",\"station\",\"statistics\",\"stats\",\"status\",\"stay\",\"stderr\",\"stealth\",\"steering\",\"step\",\"stephen\",\"stereo\",\"steve\",\"stick\",\"stl\",\"stock\",\"stolen\",\"stopped\",\"stops\",\"storage\",\"store\",\"stored\",\"stories\",\"story\",\"straight\",\"strange\",\"strategy\",\"stream\",\"street\",\"strength\",\"string\",\"strip\",\"strongly\",\"structure\",\"stuck\",\"student\",\"students\",\"studies\",\"stupid\",\"style\",\"subjects\",\"submit\",\"subscribe\",\"substance\",\"success\",\"successful\",\"suck\",\"suddenly\",\"suffer\",\"suffered\",\"suffering\",\"sufficient\",\"suggest\",\"suggested\",\"suggestion\",\"suggestions\",\"suggests\",\"suicide\",\"suit\",\"suitable\",\"suite\",\"sumgait\",\"summary\",\"summer\",\"sunday\",\"sunos\",\"super\",\"superior\",\"supply\",\"supported\",\"supporting\",\"supports\",\"suppose\",\"supposed\",\"supposedly\",\"supreme\",\"surely\",\"surface\",\"surprise\",\"surprised\",\"surrender\",\"surveillance\",\"survey\",\"suspect\",\"svga\",\"swap\",\"sweden\",\"switch\",\"switches\",\"switzerland\",\"sy\",\"symbol\",\"symptoms\",\"syndrome\",\"t3p\",\"t4\",\"t5\",\"t7\",\"table\",\"takes\",\"taking\",\"talent\",\"talked\",\"talks\",\"tampa\",\"tank\",\"tanks\",\"tap\",\"tape\",\"tapes\",\"target\",\"task\",\"taste\",\"taught\",\"tax\",\"taxes\",\"tb\",\"tcp\",\"te\",\"teach\",\"teaching\",\"teachings\",\"teams\",\"tear\",\"tech\",\"technical\",\"technique\",\"techniques\",\"technologies\",\"ted\",\"tel\",\"telecommunications\",\"telephone\",\"telescope\",\"television\",\"telling\",\"tells\",\"temperature\",\"ten\",\"tend\",\"tends\",\"term\",\"terminal\",\"terms\",\"terrible\",\"territory\",\"terrorism\",\"terrorist\",\"terrorists\",\"testament\",\"tested\",\"testimony\",\"testing\",\"tests\",\"texas\",\"tg\",\"th\",\"thank\",\"thanx\",\"theory\",\"they'd\",\"they'll\",\"they've\",\"thinking\",\"thinks\",\"thomas\",\"thoughts\",\"thousand\",\"thousands\",\"thread\",\"threat\",\"threw\",\"throughout\",\"throw\",\"throwing\",\"thrown\",\"thru\",\"thursday\",\"ticket\",\"tickets\",\"tie\",\"tiff\",\"till\",\"tim\",\"timing\",\"tire\",\"tires\",\"title\",\"tl\",\"tm\",\"tobacco\",\"today's\",\"tom\",\"tommy\",\"tomorrow\",\"tony\",\"tool\",\"toolkit\",\"tools\",\"topic\",\"topics\",\"tor\",\"toronto\",\"total\",\"totally\",\"touch\",\"tough\",\"toward\",\"towards\",\"tower\",\"town\",\"track\",\"trade\",\"traded\",\"tradition\",\"traditional\",\"traffic\",\"training\",\"transfer\",\"translation\",\"transmission\",\"travel\",\"treat\",\"treated\",\"treatment\",\"tree\",\"trial\",\"trick\",\"trip\",\"troops\",\"trouble\",\"truck\",\"truly\",\"trust\",\"tt\",\"tube\",\"tuesday\",\"turbo\",\"turkey\",\"turks\",\"turned\",\"turning\",\"turns\",\"tv\",\"twice\",\"types\",\"typical\",\"typically\",\"typing\",\"tyre\",\"ub\",\"uk\",\"un\",\"unable\",\"undefined\",\"understanding\",\"understood\",\"unfortunately\",\"union\",\"unique\",\"unit\",\"units\",\"universal\",\"universe\",\"unix\",\"unknown\",\"unlike\",\"unlikely\",\"update\",\"updated\",\"upgrade\",\"upper\",\"usa\",\"usage\",\"useful\",\"useless\",\"usenet\",\"usr\",\"usual\",\"ut\",\"utilities\",\"utility\",\"uuencode\",\"uunet\",\"uw\",\"uww\",\"uy\",\"v9fq\",\"valid\",\"valuable\",\"values\",\"van\",\"vancouver\",\"variable\",\"variety\",\"vary\",\"vast\",\"vat\",\"vehicle\",\"vehicles\",\"vendor\",\"vendors\",\"venus\",\"verse\",\"verses\",\"versions\",\"vesa\",\"vga\",\"vice\",\"victims\",\"viewer\",\"views\",\"village\",\"villages\",\"violation\",\"violence\",\"violent\",\"virginia\",\"virtual\",\"virtually\",\"visible\",\"vision\",\"visit\",\"visual\",\"visualization\",\"vlb\",\"vmk\",\"voice\",\"void\",\"vol\",\"voltage\",\"volume\",\"vote\",\"votes\",\"vram\",\"vw\",\"w-s\",\"w0\",\"w1\",\"w4\",\"w47\",\"w7\",\"wa\",\"waco\",\"wait\",\"waiting\",\"walk\",\"walking\",\"wall\",\"wants\",\"warning\",\"warrant\",\"warranty\",\"wars\",\"washington\",\"waste\",\"watch\",\"watched\",\"watching\",\"wave\",\"wayne\",\"ways\",\"we'd\",\"we'll\",\"we've\",\"weak\",\"weapon\",\"weapons\",\"wear\",\"wearing\",\"weather\",\"weaver\",\"wednesday\",\"weekend\",\"weeks\",\"weight\",\"weird\",\"welcome\",\"west\",\"western\",\"what's\",\"wheel\",\"whenever\",\"whereas\",\"who's\",\"whose\",\"wide\",\"widely\",\"widgets\",\"width\",\"wife\",\"wild\",\"william\",\"willing\",\"wing\",\"wings\",\"winner\",\"winners\",\"winning\",\"winnipeg\",\"wins\",\"winter\",\"wire\",\"wires\",\"wiretap\",\"wiring\",\"wisdom\",\"wise\",\"wish\",\"witnesses\",\"wm4u\",\"woman\",\"wonder\",\"wonderful\",\"wondering\",\"wood\",\"worked\",\"workstation\",\"workstations\",\"worry\",\"worse\",\"worship\",\"worst\",\"wounded\",\"writes\",\"writing\",\"wrote\",\"wt\",\"ww\",\"ww7\",\"wwiz\",\"x-soviet\",\"x11\",\"x11r4\",\"x11r5\",\"x7\",\"x_s\",\"xfree\",\"xlib\",\"xmu\",\"xt\",\"xterm\",\"xv\",\"xview\",\"y8\",\"y_\",\"yd\",\"ye\",\"yeah\",\"yesterday\",\"york\",\"young\",\"z5\",\"zero\",\"zone\"],\"index\":[0,1,2,3,4,5,6,7,8,9,10,11,12,13,14,15,16,17,18,19,20,21,22,23,24,25,26,27,28,29,30,31,32,33,34,35,36,37,38,39,40,41,42,43,44,45,46,47,48,49,50,51,52,53,54,55,56,57,58,59,60,61,62,63,64,65,66,67,68,69,70,71,72,73,74,75,76,77,78,79,80,81,82,83,84,85,86,87,88,89,90,91,92,93,94,95,96,97,98,99,100,101,102,103,104,105,106,107,108,109,110,111,112,113,114,115,116,117,118,119,120,121,122,123,124,125,126,127,128,129,130,131,132,133,134,135,136,137,138,139,140,141,142,143,144,145,146,147,148,149,150,151,152,153,154,155,156,157,158,159,160,161,162,163,164,165,166,167,168,169,170,171,172,173,174,175,176,177,178,179,180,181,182,183,184,185,186,187,188,189,190,191,192,193,194,195,196,197,198,199,200,201,202,203,204,205,206,207,208,209,210,211,212,213,214,215,216,217,218,219,220,221,222,223,224,225,226,227,228,229,230,231,232,233,234,235,236,237,238,239,240,241,242,243,244,245,246,247,248,249,250,251,252,253,254,255,256,257,258,259,260,261,262,263,264,265,266,267,268,269,270,271,272,273,274,275,276,277,278,279,280,281,282,283,284,285,286,287,288,289,290,291,292,293,294,295,296,297,298,299,300,301,302,303,304,305,306,307,308,309,310,311,312,313,314,315,316,317,318,319,320,321,322,323,324,325,326,327,328,329,330,331,332,333,334,335,336,337,338,339,340,341,342,343,344,345,346,347,348,349,350,351,352,353,354,355,356,357,358,359,360,361,362,363,364,365,366,367,368,369,370,371,372,373,374,375,376,377,378,379,380,381,382,383,384,385,386,387,388,389,390,391,392,393,394,395,396,397,398,399,400,401,402,403,404,405,406,407,408,409,410,411,412,413,414,415,416,417,418,419,420,421,422,423,424,425,426,427,428,429,430,431,432,433,434,435,436,437,438,439,440,441,442,443,444,445,446,447,448,449,450,451,452,453,454,455,456,457,458,459,460,461,462,463,464,465,466,467,468,469,470,471,472,473,474,475,476,477,478,479,480,481,482,483,484,485,486,487,488,489,490,491,492,493,494,495,496,497,498,499,500,501,502,503,504,505,506,507,508,509,510,511,512,513,514,515,516,517,518,519,520,521,522,523,524,525,526,527,528,529,530,531,532,533,534,535,536,537,538,539,540,541,542,543,544,545,546,547,548,549,550,551,552,553,554,555,556,557,558,559,560,561,562,563,564,565,566,567,568,569,570,571,572,573,574,575,576,577,578,579,580,581,582,583,584,585,586,587,588,589,590,591,592,593,594,595,596,597,598,599,600,601,602,603,604,605,606,607,608,609,610,611,612,613,614,615,616,617,618,619,620,621,622,623,624,625,626,627,628,629,630,631,632,633,634,635,636,637,638,639,640,641,642,643,644,645,646,647,648,649,650,651,652,653,654,655,656,657,658,659,660,661,662,663,664,665,666,667,668,669,670,671,672,673,674,675,676,677,678,679,680,681,682,683,684,685,686,687,688,689,690,691,692,693,694,695,696,697,698,699,700,701,702,703,704,705,706,707,708,709,710,711,712,713,714,715,716,717,718,719,720,721,722,723,724,725,726,727,728,729,730,731,732,733,734,735,736,737,738,739,740,741,742,743,744,745,746,747,748,749,750,751,752,753,754,755,756,757,758,759,760,761,762,763,764,765,766,767,768,769,770,771,772,773,774,775,776,777,778,779,780,781,782,783,784,785,786,787,788,789,790,791,792,793,794,795,796,797,798,799,800,801,802,803,804,805,806,807,808,809,810,811,812,813,814,815,816,817,818,819,820,821,822,823,824,825,826,827,828,829,830,831,832,833,834,835,836,837,838,839,840,841,842,843,844,845,846,847,848,849,850,851,852,853,854,855,856,857,858,859,860,861,862,863,864,865,866,867,868,869,870,871,872,873,874,875,876,877,878,879,880,881,882,883,884,885,886,887,888,889,890,891,892,893,894,895,896,897,898,899,900,901,902,903,904,905,906,907,908,909,910,911,912,913,914,915,916,917,918,919,920,921,922,923,924,925,926,927,928,929,930,931,932,933,934,935,936,937,938,939,940,941,942,943,944,945,946,947,948,949,950,951,952,953,954,955,956,957,958,959,960,961,962,963,964,965,966,967,968,969,970,971,972,973,974,975,976,977,978,979,980,981,982,983,984,985,986,987,988,989,990,991,992,993,994,995,996,997,998,999,1000,1001,1002,1003,1004,1005,1006,1007,1008,1009,1010,1011,1012,1013,1014,1015,1016,1017,1018,1019,1020,1021,1022,1023,1024,1025,1026,1027,1028,1029,1030,1031,1032,1033,1034,1035,1036,1037,1038,1039,1040,1041,1042,1043,1044,1045,1046,1047,1048,1049,1050,1051,1052,1053,1054,1055,1056,1057,1058,1059,1060,1061,1062,1063,1064,1065,1066,1067,1068,1069,1070,1071,1072,1073,1074,1075,1076,1077,1078,1079,1080,1081,1082,1083,1084,1085,1086,1087,1088,1089,1090,1091,1092,1093,1094,1095,1096,1097,1098,1099,1100,1101,1102,1103,1104,1105,1106,1107,1108,1109,1110,1111,1112,1113,1114,1115,1116,1117,1118,1119,1120,1121,1122,1123,1124,1125,1126,1127,1128,1129,1130,1131,1132,1133,1134,1135,1136,1137,1138,1139,1140,1141,1142,1143,1144,1145,1146,1147,1148,1149,1150,1151,1152,1153,1154,1155,1156,1157,1158,1159,1160,1161,1162,1163,1164,1165,1166,1167,1168,1169,1170,1171,1172,1173,1174,1175,1176,1177,1178,1179,1180,1181,1182,1183,1184,1185,1186,1187,1188,1189,1190,1191,1192,1193,1194,1195,1196,1197,1198,1199,1200,1201,1202,1203,1204,1205,1206,1207,1208,1209,1210,1211,1212,1213,1214,1215,1216,1217,1218,1219,1220,1221,1222,1223,1224,1225,1226,1227,1228,1229,1230,1231,1232,1233,1234,1235,1236,1237,1238,1239,1240,1241,1242,1243,1244,1245,1246,1247,1248,1249,1250,1251,1252,1253,1254,1255,1256,1257,1258,1259,1260,1261,1262,1263,1264,1265,1266,1267,1268,1269,1270,1271,1272,1273,1274,1275,1276,1277,1278,1279,1280,1281,1282,1283,1284,1285,1286,1287,1288,1289,1290,1291,1292,1293,1294,1295,1296,1297,1298,1299,1300,1301,1302,1303,1304,1305,1306,1307,1308,1309,1310,1311,1312,1313,1314,1315,1316,1317,1318,1319,1320,1321,1322,1323,1324,1325,1326,1327,1328,1329,1330,1331,1332,1333,1334,1335,1336,1337,1338,1339,1340,1341,1342,1343,1344,1345,1346,1347,1348,1349,1350,1351,1352,1353,1354,1355,1356,1357,1358,1359,1360,1361,1362,1363,1364,1365,1366,1367,1368,1369,1370,1371,1372,1373,1374,1375,1376,1377,1378,1379,1380,1381,1382,1383,1384,1385,1386,1387,1388,1389,1390,1391,1392,1393,1394,1395,1396,1397,1398,1399,1400,1401,1402,1403,1404,1405,1406,1407,1408,1409,1410,1411,1412,1413,1414,1415,1416,1417,1418,1419,1420,1421,1422,1423,1424,1425,1426,1427,1428,1429,1430,1431,1432,1433,1434,1435,1436,1437,1438,1439,1440,1441,1442,1443,1444,1445,1446,1447,1448,1449,1450,1451,1452,1453,1454,1455,1456,1457,1458,1459,1460,1461,1462,1463,1464,1465,1466,1467,1468,1469,1470,1471,1472,1473,1474,1475,1476,1477,1478,1479,1480,1481,1482,1483,1484,1485,1486,1487,1488,1489,1490,1491,1492,1493,1494,1495,1496,1497,1498,1499,1500,1501,1502,1503,1504,1505,1506,1507,1508,1509,1510,1511,1512,1513,1514,1515,1516,1517,1518,1519,1520,1521,1522,1523,1524,1525,1526,1527,1528,1529,1530,1531,1532,1533,1534,1535,1536,1537,1538,1539,1540,1541,1542,1543,1544,1545,1546,1547,1548,1549,1550,1551,1552,1553,1554,1555,1556,1557,1558,1559,1560,1561,1562,1563,1564,1565,1566,1567,1568,1569,1570,1571,1572,1573,1574,1575,1576,1577,1578,1579,1580,1581,1582,1583,1584,1585,1586,1587,1588,1589,1590,1591,1592,1593,1594,1595,1596,1597,1598,1599,1600,1601,1602,1603,1604,1605,1606,1607,1608,1609,1610,1611,1612,1613,1614,1615,1616,1617,1618,1619,1620,1621,1622,1623,1624,1625,1626,1627,1628,1629,1630,1631,1632,1633,1634,1635,1636,1637,1638,1639,1640,1641,1642,1643,1644,1645,1646,1647,1648,1649,1650,1651,1652,1653,1654,1655,1656,1657,1658,1659,1660,1661,1662,1663,1664,1665,1666,1667,1668,1669,1670,1671,1672,1673,1674,1675,1676,1677,1678,1679,1680,1681,1682,1683,1684,1685,1686,1687,1688,1689,1690,1691,1692,1693,1694,1695,1696,1697,1698,1699,1700,1701,1702,1703,1704,1705,1706,1707,1708,1709,1710,1711,1712,1713,1714,1715,1716,1717,1718,1719,1720,1721,1722,1723,1724,1725,1726,1727,1728,1729,1730,1731,1732,1733,1734,1735,1736,1737,1738,1739,1740,1741,1742,1743,1744,1745,1746,1747,1748,1749,1750,1751,1752,1753,1754,1755,1756,1757,1758,1759,1760,1761,1762,1763,1764,1765,1766,1767,1768,1769,1770,1771,1772,1773,1774,1775,1776,1777,1778,1779,1780,1781,1782,1783,1784,1785,1786,1787,1788,1789,1790,1791,1792,1793,1794,1795,1796,1797,1798,1799,1800,1801,1802,1803,1804,1805,1806,1807,1808,1809,1810,1811,1812,1813,1814,1815,1816,1817,1818,1819,1820,1821,1822,1823,1824,1825,1826,1827,1828,1829,1830,1831,1832,1833,1834,1835,1836,1837,1838,1839,1840,1841,1842,1843,1844,1845,1846,1847,1848,1849,1850,1851,1852,1853,1854,1855,1856,1857,1858,1859,1860,1861,1862,1863,1864,1865,1866,1867,1868,1869,1870,1871,1872,1873,1874,1875,1876,1877,1878,1879,1880,1881,1882,1883,1884,1885,1886,1887,1888,1889,1890,1891,1892,1893,1894,1895,1896,1897,1898,1899,1900,1901,1902,1903,1904,1905,1906,1907,1908,1909,1910,1911,1912,1913,1914,1915,1916,1917,1918,1919,1920,1921,1922,1923,1924,1925,1926,1927,1928,1929,1930,1931,1932,1933,1934,1935,1936,1937,1938,1939,1940,1941,1942,1943,1944,1945,1946,1947,1948,1949,1950,1951,1952,1953,1954,1955,1956,1957,1958,1959,1960,1961,1962,1963,1964,1965,1966,1967,1968,1969,1970,1971,1972,1973,1974,1975,1976,1977,1978,1979,1980,1981,1982,1983,1984,1985,1986,1987,1988,1989,1990,1991,1992,1993,1994,1995,1996,1997,1998,1999,2000,2001,2002,2003,2004,2005,2006,2007,2008,2009,2010,2011,2012,2013,2014,2015,2016,2017,2018,2019,2020,2021,2022,2023,2024,2025,2026,2027,2028,2029,2030,2031,2032,2033,2034,2035,2036,2037,2038,2039,2040,2041,2042,2043,2044,2045,2046,2047,2048,2049,2050,2051,2052,2053,2054,2055,2056,2057,2058,2059,2060,2061,2062,2063,2064,2065,2066,2067,2068,2069,2070,2071,2072,2073,2074,2075,2076,2077,2078,2079,2080,2081,2082,2083,2084,2085,2086,2087,2088,2089,2090,2091,2092,2093,2094,2095,2096,2097,2098,2099,2100,2101,2102,2103,2104,2105,2106,2107,2108,2109,2110,2111,2112,2113,2114,2115,2116,2117,2118,2119,2120,2121,2122,2123,2124,2125,2126,2127,2128,2129,2130,2131,2132,2133,2134,2135,2136,2137,2138,2139,2140,2141,2142,2143,2144,2145,2146,2147,2148,2149,2150,2151,2152,2153,2154,2155,2156,2157,2158,2159,2160,2161,2162,2163,2164,2165,2166,2167,2168,2169,2170,2171,2172,2173,2174,2175,2176,2177,2178,2179,2180,2181,2182,2183,2184,2185,2186,2187,2188,2189,2190,2191,2192,2193,2194,2195,2196,2197,2198,2199,2200,2201,2202,2203,2204,2205,2206,2207,2208,2209,2210,2211,2212,2213,2214,2215,2216,2217,2218,2219,2220,2221,2222,2223,2224,2225,2226,2227,2228,2229,2230,2231,2232,2233,2234,2235,2236,2237,2238,2239,2240,2241,2242,2243,2244,2245,2246,2247,2248,2249,2250,2251,2252,2253,2254,2255,2256,2257,2258,2259,2260,2261,2262,2263,2264,2265,2266,2267,2268,2269,2270,2271,2272,2273,2274,2275,2276,2277,2278,2279,2280,2281,2282,2283,2284,2285,2286,2287,2288,2289,2290,2291,2292,2293,2294,2295,2296,2297,2298,2299,2300,2301,2302,2303,2304,2305,2306,2307,2308,2309,2310,2311,2312,2313,2314,2315,2316,2317,2318,2319,2320,2321,2322,2323,2324,2325,2326,2327,2328,2329,2330,2331,2332,2333,2334,2335,2336,2337,2338,2339,2340,2341,2342,2343,2344,2345,2346,2347,2348,2349,2350,2351,2352,2353,2354,2355,2356,2357,2358,2359,2360,2361,2362,2363,2364,2365,2366,2367,2368,2369,2370,2371,2372,2373,2374,2375,2376,2377,2378,2379,2380,2381,2382,2383,2384,2385,2386,2387,2388,2389,2390,2391,2392,2393,2394,2395,2396,2397,2398,2399,2400,2401,2402,2403,2404,2405,2406,2407,2408,2409,2410,2411,2412,2413,2414,2415,2416,2417,2418,2419,2420,2421,2422,2423,2424,2425,2426,2427,2428,2429,2430,2431,2432,2433,2434,2435,2436,2437,2438,2439,2440,2441,2442,2443,2444,2445,2446,2447,2448,2449,2450,2451,2452,2453,2454,2455,2456,2457,2458,2459,2460,2461,2462,2463,2464,2465,2466,2467,2468,2469,2470,2471,2472,2473,2474,2475,2476,2477,2478,2479,2480,2481,2482,2483,2484,2485,2486,2487,2488,2489,2490,2491,2492,2493,2494,2495,2496,2497,2498,2499,2500,2501,2502,2503,2504,2505,2506,2507,2508,2509,2510,2511,2512,2513,2514,2515,2516,2517,2518,2519,2520,2521,2522,2523,2524,2525,2526,2527,2528,2529,2530,2531,2532,2533,2534,2535,2536,2537,2538,2539,2540,2541,2542,2543,2544,2545,2546,2547,2548,2549,2550,2551,2552,2553,2554,2555,2556,2557,2558,2559,2560,2561,2562,2563,2564,2565,2566,2567,2568,2569,2570,2571,2572,2573,2574,2575,2576,2577,2578,2579,2580,2581,2582,2583,2584,2585,2586,2587,2588,2589,2590,2591,2592,2593,2594,2595,2596,2597,2598,2599,2600,2601,2602,2603,2604,2605,2606,2607,2608,2609,2610,2611,2612,2613,2614,2615,2616,2617,2618,2619,2620,2621,2622,2623,2624,2625,2626,2627,2628,2629,2630,2631,2632,2633,2634,2635,2636,2637,2638,2639,2640,2641,2642,2643,2644,2645,2646,2647,2648,2649,2650,2651,2652,2653,2654,2655,2656,2657,2658,2659,2660,2661,2662,2663,2664,2665,2666,2667,2668,2669,2670,2671,2672,2673,2674,2675,2676,2677,2678,2679,2680,2681,2682,2683,2684,2685,2686,2687,2688,2689,2690,2691,2692,2693,2694,2695,2696,2697,2698,2699,2700,2701,2702,2703,2704,2705,2706,2707,2708,2709,2710,2711,2712,2713,2714,2715,2716,2717,2718,2719,2720,2721,2722,2723,2724,2725,2726,2727,2728,2729,2730,2731,2732,2733,2734,2735,2736,2737,2738,2739,2740,2741,2742,2743,2744,2745,2746,2747,2748,2749,2750,2751,2752,2753,2754,2755,2756,2757,2758,2759,2760,2761,2762,2763,2764,2765,2766,2767,2768,2769,2770,2771,2772,2773,2774,2775,2776,2777,2778,2779,2780,2781,2782,2783,2784,2785,2786,2787,2788,2789,2790,2791,2792,2793,2794,2795,2796,2797,2798,2799,2800,2801,2802,2803,2804,2805,2806,2807,2808,2809,2810,2811,2812,2813,2814,2815,2816,2817,2818,2819,2820,2821,2822,2823,2824,2825,2826,2827,2828,2829,2830,2831,2832,2833,2834,2835,2836,2837,2838,2839,2840,2841,2842,2843,2844,2845,2846,2847,2848,2849,2850,2851,2852,2853,2854,2855,2856,2857,2858,2859,2860,2861,2862,2863,2864,2865,2866,2867,2868,2869,2870,2871,2872,2873,2874,2875,2876,2877,2878,2879,2880,2881,2882,2883,2884,2885,2886,2887,2888,2889,2890,2891,2892,2893,2894,2895,2896,2897,2898,2899,2900,2901,2902,2903,2904,2905,2906,2907,2908,2909,2910,2911,2912,2913,2914,2915,2916,2917,2918,2919,2920,2921,2922,2923,2924,2925,2926,2927,2928,2929,2930,2931,2932,2933,2934,2935,2936,2937,2938,2939,2940,2941,2942,2943,2944,2945,2946,2947,2948,2949,2950,2951,2952,2953,2954,2955,2956,2957,2958,2959,2960,2961,2962,2963,2964,2965,2966,2967,2968,2969,2970,2971,2972,2973,2974,2975,2976,2977,2978,2979,2980,2981,2982,2983,2984,2985,2986,2987,2988,2989,2990,2991,2992,2993,2994,2995,2996,2997,2998,2999,3000,3001,3002,3003,3004,3005,3006,3007,3008,3009,3010,3011,3012,3013,3014,3015,3016,3017,3018,3019,3020,3021,3022,3023,3024,3025,3026,3027,3028,3029,3030,3031,3032,3033,3034,3035,3036,3037,3038,3039,3040,3041,3042,3043,3044,3045,3046,3047,3048,3049,3050,3051,3052,3053,3054,3055,3056,3057,3058,3059,3060,3061,3062,3063,3064,3065,3066,3067,3068,3069,3070,3071,3072,3073,3074,3075,3076,3077,3078,3079,3080,3081,3082,3083,3084,3085,3086,3087,3088,3089,3090,3091,3092,3093,3094,3095,3096,3097,3098,3099,3100,3101,3102,3103,3104,3105,3106,3107,3108,3109,3110,3111,3112,3113,3114,3115,3116,3117,3118,3119,3120,3121,3122,3123,3124,3125,3126,3127,3128,3129,3130,3131,3132,3133,3134,3135,3136,3137,3138,3139,3140,3141,3142,3143,3144,3145,3146,3147,3148,3149,3150,3151,3152,3153,3154,3155,3156,3157,3158,3159,3160,3161,3162,3163,3164,3165,3166,3167,3168,3169,3170,3171,3172,3173,3174,3175,3176,3177,3178,3179,3180,3181,3182,3183,3184,3185,3186,3187,3188,3189,3190,3191,3192,3193,3194,3195,3196,3197,3198,3199,3200,3201,3202,3203,3204,3205,3206,3207,3208,3209,3210,3211,3212,3213,3214,3215,3216,3217,3218,3219,3220,3221,3222,3223,3224,3225,3226,3227,3228,3229,3230,3231,3232,3233,3234,3235,3236,3237,3238,3239,3240,3241,3242,3243,3244,3245,3246,3247,3248,3249,3250,3251,3252,3253,3254,3255,3256,3257,3258,3259,3260,3261,3262,3263,3264,3265,3266,3267,3268,3269,3270,3271,3272,3273,3274,3275,3276,3277,3278,3279,3280,3281,3282,3283,3284,3285,3286,3287,3288,3289,3290,3291,3292,3293,3294,3295,3296,3297,3298,3299,3300,3301,3302,3303],\"value\":{\"__ndarray__\":\"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\",\"dtype\":\"float64\",\"shape\":[3304]},\"x\":{\"__ndarray__\":\"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\",\"dtype\":\"float32\",\"shape\":[3304]},\"y\":{\"__ndarray__\":\"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\",\"dtype\":\"float32\",\"shape\":[3304]}},\"selected\":{\"id\":\"1051\",\"type\":\"Selection\"},\"selection_policy\":{\"id\":\"1050\",\"type\":\"UnionRenderers\"}},\"id\":\"1003\",\"type\":\"ColumnDataSource\"},{\"attributes\":{\"data_source\":{\"id\":\"1003\",\"type\":\"ColumnDataSource\"},\"glyph\":{\"id\":\"1039\",\"type\":\"Circle\"},\"hover_glyph\":null,\"muted_glyph\":null,\"nonselection_glyph\":{\"id\":\"1040\",\"type\":\"Circle\"},\"selection_glyph\":null,\"view\":{\"id\":\"1042\",\"type\":\"CDSView\"}},\"id\":\"1041\",\"type\":\"GlyphRenderer\"},{\"attributes\":{\"fill_color\":{\"field\":\"value\",\"transform\":{\"id\":\"1002\",\"type\":\"LinearColorMapper\"}},\"line_color\":{\"field\":\"value\",\"transform\":{\"id\":\"1002\",\"type\":\"LinearColorMapper\"}},\"size\":{\"units\":\"screen\",\"value\":5},\"x\":{\"field\":\"x\"},\"y\":{\"field\":\"y\"}},\"id\":\"1039\",\"type\":\"Circle\"},{\"attributes\":{\"active_drag\":\"auto\",\"active_inspect\":\"auto\",\"active_multi\":null,\"active_scroll\":\"auto\",\"active_tap\":\"auto\",\"tools\":[{\"id\":\"1023\",\"type\":\"PanTool\"},{\"id\":\"1024\",\"type\":\"WheelZoomTool\"},{\"id\":\"1025\",\"type\":\"BoxZoomTool\"},{\"id\":\"1026\",\"type\":\"SaveTool\"},{\"id\":\"1027\",\"type\":\"ResetTool\"},{\"id\":\"1028\",\"type\":\"HelpTool\"},{\"id\":\"1029\",\"type\":\"HoverTool\"}]},\"id\":\"1030\",\"type\":\"Toolbar\"},{\"attributes\":{},\"id\":\"1028\",\"type\":\"HelpTool\"}],\"root_ids\":[\"1004\"]},\"title\":\"Bokeh Application\",\"version\":\"1.3.4\"}};\n",
       "  var render_items = [{\"docid\":\"306034f8-2c02-49e9-967a-d1390bfe698b\",\"roots\":{\"1004\":\"c3655e3b-1f48-47b5-b02c-c2081a7c29fc\"}}];\n",
       "  root.Bokeh.embed.embed_items_notebook(docs_json, render_items);\n",
       "\n",
       "  }\n",
       "  if (root.Bokeh !== undefined) {\n",
       "    embed_document(root);\n",
       "  } else {\n",
       "    var attempts = 0;\n",
       "    var timer = setInterval(function(root) {\n",
       "      if (root.Bokeh !== undefined) {\n",
       "        embed_document(root);\n",
       "        clearInterval(timer);\n",
       "      }\n",
       "      attempts++;\n",
       "      if (attempts > 100) {\n",
       "        console.log(\"Bokeh: ERROR: Unable to run BokehJS code because BokehJS library is missing\");\n",
       "        clearInterval(timer);\n",
       "      }\n",
       "    }, 10, root)\n",
       "  }\n",
       "})(window);"
      ],
      "application/vnd.bokehjs_exec.v0+json": ""
     },
     "metadata": {
      "application/vnd.bokehjs_exec.v0+json": {
       "id": "1004"
      }
     },
     "output_type": "display_data"
    }
   ],
   "source": [
    "mapper = umap.UMAP(metric = \"hellinger\", random_state=42).fit(count_matrix)\n",
    "pic = umap.plot.interactive(mapper, hover_data = hover, point_size=5, values = vectorizer._token_frequencies_)\n",
    "umap.plot.show(pic)"
   ]
  },
  {
   "cell_type": "markdown",
   "metadata": {},
   "source": [
    "## Applying NLP  techniques:"
   ]
  },
  {
   "cell_type": "markdown",
   "metadata": {},
   "source": [
    "First off, it is common when embedding words and tokens to consider each sentence seperaly so as not to have windows crossing sentence boundaries.  Finding sentence boundaries is more time consuming however. "
   ]
  },
  {
   "cell_type": "code",
   "execution_count": null,
   "metadata": {},
   "outputs": [],
   "source": [
    "%%time\n",
    "tokens = textmap.tokenizers.NLTKTweetTokenizer(tokenize_by='sentence').fit_transform(data)"
   ]
  },
  {
   "cell_type": "markdown",
   "metadata": {},
   "source": [
    "Secondly, it is common to place a kernel over the window that weights the counts lower for words that are further apart.  In this case we may wish to use a triangular or harmonic kernel. \n",
    "\n",
    "We may also wish to vary the window size depending on it's content.  For example, we may with to broaden the window if it contains several frequent words (like stop-words) to gather more information.  The 'information' window function computes the expected information for a window of size 'window_radius' via \n",
    "$$\n",
    "E(window\\_information) = -window\\_radius * \\sum_{tokens}P(token)log_2(P(token))\n",
    "$$\n",
    "and grows the windows until they exceed the expected information.  "
   ]
  },
  {
   "cell_type": "code",
   "execution_count": null,
   "metadata": {},
   "outputs": [],
   "source": [
    "%%time \n",
    "vectorizer = vectorizers.TokenCooccurrenceVectorizer(\n",
    "                                            window_function='information',\n",
    "                                            kernel_function='harmonic',\n",
    "                                            max_frequency = 1e-4, \n",
    "                                            min_occurrences = 50, \n",
    "                                            ignored_tokens=stopwords.words('English'),\n",
    "                                            excluded_token_regex=\"\\W+\")\n",
    "count_matrix = vectorizer.fit_transform(tokens)\n",
    "count_matrix"
   ]
  },
  {
   "cell_type": "code",
   "execution_count": null,
   "metadata": {},
   "outputs": [],
   "source": [
    "mapper = umap.UMAP(metric = \"hellinger\", random_state=42).fit(count_matrix)"
   ]
  },
  {
   "cell_type": "code",
   "execution_count": null,
   "metadata": {},
   "outputs": [],
   "source": [
    "hover = pandas.DataFrame()\n",
    "hover['data'] = vectorizer.column_label_dictionary_.keys()\n",
    "pic = umap.plot.interactive(mapper, hover_data = hover, point_size=5, values = vectorizer._token_frequencies_)\n",
    "umap.plot.show(pic)"
   ]
  },
  {
   "cell_type": "markdown",
   "metadata": {},
   "source": [
    "### Changing the window radius. \n",
    "\n",
    "In general, smaller windows tend to capute more syntactic similarity between words (similar parts of speech tend to be more similar) whereas wider windows tend to capture more syntatic similarity between words (words used when discussing the same topic tend to be similar.  In some sense the kernel functions are one way to balance these two notions but we can also just vary the window_radius depending on the desired effect. For example if we cared more about syntactic similarity we could set a smaller window radius. "
   ]
  },
  {
   "cell_type": "code",
   "execution_count": null,
   "metadata": {},
   "outputs": [],
   "source": [
    "%%time \n",
    "vectorizer = vectorizers.TokenCooccurrenceVectorizer(\n",
    "                                            window_radius = 2,\n",
    "                                            window_function='fixed',\n",
    "                                            kernel_function='triangular',\n",
    "                                            max_frequency = 1e-4, \n",
    "                                            min_occurrences = 50, \n",
    "                                            ignored_tokens=stopwords.words('English'),\n",
    "                                            excluded_token_regex=\"\\W+\")\n",
    "count_matrix = vectorizer.fit_transform(tokens)\n",
    "count_matrix"
   ]
  },
  {
   "cell_type": "code",
   "execution_count": null,
   "metadata": {},
   "outputs": [],
   "source": [
    "mapper = umap.UMAP(metric = \"hellinger\", random_state=42).fit(count_matrix)"
   ]
  },
  {
   "cell_type": "code",
   "execution_count": null,
   "metadata": {},
   "outputs": [],
   "source": [
    "hover = pandas.DataFrame()\n",
    "hover['data'] = vectorizer.column_label_dictionary_.keys()\n",
    "pic = umap.plot.interactive(mapper, hover_data = hover, point_size=5, values = vectorizer._token_frequencies_)\n",
    "umap.plot.show(pic)"
   ]
  },
  {
   "cell_type": "markdown",
   "metadata": {},
   "source": [
    "### Capturing word order:\n",
    "\n",
    "The default setting (and the typical method) is to combine the counts of context words that occur before a given word and those that occur afterwards.  However, we can seperate these two cases apart.  In fact, the TokenCooccurrenceVectorizer computationally under-the-hood first produces a (kernel weighted) count matrix $M$ of for only words afterwards. The (kernel weighted) count of words only before is then just the transpose $M^T$ and the count of both is just their sum $M+M^T$.  Which that gets returned is controlled by the window_orientation parameter.  Changing this parameter it is quite easy to just combine them as $(M|M^T)$ to treat counts before and afterwards seperately. "
   ]
  },
  {
   "cell_type": "code",
   "execution_count": null,
   "metadata": {},
   "outputs": [],
   "source": [
    "import scipy.sparse"
   ]
  },
  {
   "cell_type": "code",
   "execution_count": null,
   "metadata": {},
   "outputs": [],
   "source": [
    "%%time \n",
    "vectorizer = vectorizers.TokenCooccurrenceVectorizer(\n",
    "                                            window_orientation='after',\n",
    "                                            max_frequency = 1e-4, \n",
    "                                            min_occurrences = 50, \n",
    "                                            ignored_tokens=stopwords.words('English'),\n",
    "                                            excluded_token_regex=\"\\W+\",\n",
    "                                        )\n",
    "count_matrix = vectorizer.fit_transform(tokens)\n",
    "\n",
    "directed_count_matrix = scipy.sparse.hstack([count_matrix, count_matrix.T])"
   ]
  },
  {
   "cell_type": "code",
   "execution_count": null,
   "metadata": {},
   "outputs": [],
   "source": [
    "mapper = umap.UMAP(metric = \"hellinger\", random_state=42).fit(directed_count_matrix)"
   ]
  },
  {
   "cell_type": "code",
   "execution_count": null,
   "metadata": {},
   "outputs": [],
   "source": [
    "hover = pandas.DataFrame()\n",
    "hover['data'] = vectorizer.column_label_dictionary_.keys()\n",
    "pic = umap.plot.interactive(mapper, hover_data = hover, point_size=5, values = vectorizer._token_frequencies_)\n",
    "umap.plot.show(pic)"
   ]
  },
  {
   "cell_type": "markdown",
   "metadata": {},
   "source": [
    "## Combining all the options:"
   ]
  },
  {
   "cell_type": "markdown",
   "metadata": {},
   "source": [
    "We can combine all of the above options in various ways by simply stacking them together, adding more features to the description of a word.  We should be somewhat careful to makes sure that each matrix is on a similar scale (which will not be true be default if we vary the window sizes and kernels), and so it is best to $L_1$ normalize the rows of each matrix, and then take a weighted combination of them as desired.  \n",
    "\n",
    "We should also be consistent in our labelling.  For that, we can pass in the token dictionary from one vectorizer into another so that the row and column labels are consistent between the two.  "
   ]
  },
  {
   "cell_type": "code",
   "execution_count": null,
   "metadata": {},
   "outputs": [],
   "source": [
    "from sklearn.preprocessing import normalize"
   ]
  },
  {
   "cell_type": "code",
   "execution_count": null,
   "metadata": {},
   "outputs": [],
   "source": [
    "%%time \n",
    "syntax_vectorizer = vectorizers.TokenCooccurrenceVectorizer(\n",
    "                                            window_radius = 2,\n",
    "                                            window_function = 'fixed',\n",
    "                                            kernel_function = 'triangular',\n",
    "                                            window_orientation='after',\n",
    "                                            max_frequency = 1e-4, \n",
    "                                            min_occurrences = 50, \n",
    "                                            ignored_tokens=stopwords.words('English'),\n",
    "                                            excluded_token_regex=\"\\W+\",\n",
    "                                        )\n",
    "syntax_matrix = syntax_vectorizer.fit_transform(tokens)\n",
    "\n",
    "# We should pass in the token dictionary from the above to assure we have consistent labelling\n",
    "semantic_vectorizer = vectorizers.TokenCooccurrenceVectorizer(\n",
    "                                            window_radius = 8,\n",
    "                                            window_function = 'information',\n",
    "                                            kernel_function = 'harmonic',\n",
    "                                            window_orientation='symmetric',\n",
    "                                            token_dictionary = vectorizer.column_label_dictionary_,\n",
    "                                        )\n",
    "semantic_matrix = semantic_vectorizer.fit_transform(tokens)\n",
    "\n",
    "\n",
    "mixed_count_matrix = scipy.sparse.hstack([\n",
    "                                            2*normalize(syntax_matrix, 'l1'),\n",
    "                                            2*normalize(syntax_matrix.T, 'l1'),\n",
    "                                            3*normalize(semantic_matrix, 'l1'),       \n",
    "])"
   ]
  },
  {
   "cell_type": "code",
   "execution_count": null,
   "metadata": {},
   "outputs": [],
   "source": [
    "mapper = umap.UMAP(metric = \"hellinger\", random_state=42).fit(mixed_count_matrix)"
   ]
  },
  {
   "cell_type": "code",
   "execution_count": null,
   "metadata": {},
   "outputs": [],
   "source": [
    "hover = pandas.DataFrame()\n",
    "hover['data'] = vectorizer.column_label_dictionary_.keys()\n",
    "pic = umap.plot.interactive(mapper, hover_data = hover, point_size=5, values = vectorizer._token_frequencies_)\n",
    "umap.plot.show(pic)"
   ]
  },
  {
   "cell_type": "code",
   "execution_count": null,
   "metadata": {},
   "outputs": [],
   "source": []
  },
  {
   "cell_type": "code",
   "execution_count": null,
   "metadata": {},
   "outputs": [],
   "source": []
  }
 ],
 "metadata": {
  "kernelspec": {
   "display_name": "Python 3",
   "language": "python",
   "name": "python3"
  },
  "language_info": {
   "codemirror_mode": {
    "name": "ipython",
    "version": 3
   },
   "file_extension": ".py",
   "mimetype": "text/x-python",
   "name": "python",
   "nbconvert_exporter": "python",
   "pygments_lexer": "ipython3",
   "version": "3.7.4"
  }
 },
 "nbformat": 4,
 "nbformat_minor": 2
}
